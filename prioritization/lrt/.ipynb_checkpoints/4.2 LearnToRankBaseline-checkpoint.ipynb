{
 "cells": [
  {
   "cell_type": "code",
   "execution_count": null,
   "metadata": {},
   "outputs": [],
   "source": [
    "import os\n",
    "import numpy as np\n",
    "import pandas as pd\n",
    "import matplotlib.pyplot as plt"
   ]
  },
  {
   "cell_type": "code",
   "execution_count": null,
   "metadata": {},
   "outputs": [],
   "source": [
    "project = \"ZooKeeper\"\n",
    "data_dir = r\"E:\\IDEAWorkspace\\autologguards\\auto-guard\\src\\main\\py\\lrt\\\\\" + project + r\"Data\\folds5\""
   ]
  },
  {
   "cell_type": "code",
   "execution_count": null,
   "metadata": {},
   "outputs": [],
   "source": [
    "# cutoff of metrics\n",
    "cutoffs = [\"5\", \"10\", \"15\", \"20\", \"25\", \"30\"]"
   ]
  },
  {
   "cell_type": "code",
   "execution_count": null,
   "metadata": {},
   "outputs": [],
   "source": [
    "# 1: MethodCalls\n",
    "# 2: PotentialMethodCall\n",
    "# 3: Instructions\n",
    "# 4: PotentialInstruction\n",
    "# 5: ExecutionFrequency\n",
    "# 6: MethodFrequency\n",
    "features = {\n",
    "    \"1\" : \"MethodCalls\", \n",
    "    \"2\" : \"PotentialMethodCall\",\n",
    "    \"3\" : \"Instructions\", \n",
    "    \"4\" : \"PotentialInstruction\",\n",
    "    \"5\" : \"ExecutionFrequency\",\n",
    "    \"6\" : \"MethodFrequency\"\n",
    "}"
   ]
  },
  {
   "cell_type": "code",
   "execution_count": null,
   "metadata": {},
   "outputs": [],
   "source": [
    "file_names = os.listdir(data_dir)"
   ]
  },
  {
   "cell_type": "code",
   "execution_count": null,
   "metadata": {},
   "outputs": [],
   "source": [
    "for feature in features.values():\n",
    "    for cutoff in cutoffs:\n",
    "        precisions = []\n",
    "        for test_file in file_names:\n",
    "            with open(os.path.join(data_dir, test_file), \"r\") as test_data:\n",
    "                raw_data = []\n",
    "                for line in test_data.readlines():\n",
    "                    items = line.strip().split(\" \")\n",
    "                    reverse_rank = int(items[0])\n",
    "                    logging_id = items[-1]\n",
    "                    method_calls = float(items[2].split(\":\")[1])\n",
    "                    potential_method_calls = float(items[3].split(\":\")[1])\n",
    "                    instructions = float(items[4].split(\":\")[1])\n",
    "                    potential_instructions = float(items[5].split(\":\")[1])\n",
    "                    frequency = float(items[6].split(\":\")[1])\n",
    "                    method_freq = float(items[7].split(\":\")[1])\n",
    "                    raw_data.append([logging_id, reverse_rank, method_calls, potential_method_calls, instructions, potential_instructions, frequency, method_freq])\n",
    "                columns = [\"LoggingID\", \"ReverseRank\"]\n",
    "                columns.extend(features.values())\n",
    "                data = pd.DataFrame(raw_data, columns=columns)\n",
    "                # sort data by ReverseRank, and assign right rank\n",
    "                data = data.sort_values(by=['ReverseRank'], ascending=False)\n",
    "                data[\"Rank\"] = np.arange(1, len(data)+1)\n",
    "                result = data.sort_values(by=[feature], ascending=False).head(int(cutoff))[\"Rank\"].to_list()\n",
    "                precision = sum([1 if i <= int(cutoff) else 0 for i in result]) * 1.0 / int(cutoff)\n",
    "#                 print(\"Precision@\" + cutoff + \" for \" + feature + \" on \" + project + \" \"+ test_file + \" is :\" + str(precision))\n",
    "                precisions.append(precision)\n",
    "        avg_precisions = sum(precisions) / len(precisions)\n",
    "#         print(\"Average precision@\" + cutoff + \" for \" + feature + \" on \" + project + \" is :\" + str(avg_precisions))\n",
    "        print(str(avg_precisions), end=\"\\t\")\n",
    "    print()"
   ]
  },
  {
   "cell_type": "code",
   "execution_count": null,
   "metadata": {},
   "outputs": [],
   "source": [
    "project = \"Hadoop\"\n",
    "data_dir = r\"E:\\IDEAWorkspace\\autologguards\\auto-guard\\src\\main\\py\\lrt\\\\\" + project + r\"Data\\AllFolds\""
   ]
  },
  {
   "cell_type": "code",
   "execution_count": null,
   "metadata": {},
   "outputs": [],
   "source": [
    "# cutoff of metrics\n",
    "cutoffs = [\"5\", \"10\", \"15\", \"20\", \"25\", \"30\"]"
   ]
  },
  {
   "cell_type": "code",
   "execution_count": null,
   "metadata": {},
   "outputs": [],
   "source": [
    "# 1: MethodCalls\n",
    "# 2: PotentialMethodCall\n",
    "# 3: Instructions\n",
    "# 4: PotentialInstruction\n",
    "# 5: ExecutionFrequency\n",
    "# 6: MethodFrequency\n",
    "features = {\n",
    "    \"1\" : \"MethodCalls\", \n",
    "    \"2\" : \"PotentialMethodCall\",\n",
    "    \"3\" : \"Instructions\", \n",
    "    \"4\" : \"PotentialInstruction\",\n",
    "    \"5\" : \"ExecutionFrequency\",\n",
    "    \"6\" : \"MethodFrequency\"\n",
    "}"
   ]
  },
  {
   "cell_type": "code",
   "execution_count": null,
   "metadata": {},
   "outputs": [],
   "source": [
    "for feature in features.values():\n",
    "    for cutoff in cutoffs:\n",
    "        with open(data_dir, \"r\") as test_data:\n",
    "            raw_data = []\n",
    "            for line in test_data.readlines():\n",
    "                items = line.strip().split(\" \")\n",
    "                reverse_rank = int(items[0])\n",
    "                logging_id = items[-1]\n",
    "                method_calls = float(items[2].split(\":\")[1])\n",
    "                potential_method_calls = float(items[3].split(\":\")[1])\n",
    "                instructions = float(items[4].split(\":\")[1])\n",
    "                potential_instructions = float(items[5].split(\":\")[1])\n",
    "                frequency = float(items[6].split(\":\")[1])\n",
    "                raw_data.append([logging_id, reverse_rank, method_calls, potential_method_calls, instructions, potential_instructions, frequency])\n",
    "            columns = [\"LoggingID\", \"ReverseRank\"]\n",
    "            columns.extend(features.values())\n",
    "            data = pd.DataFrame(raw_data, columns=columns)\n",
    "            # sort data by ReverseRank, and assign right rank\n",
    "            data = data.sort_values(by=['ReverseRank'], ascending=False)\n",
    "            data[\"Rank\"] = np.arange(1, len(data)+1)\n",
    "            result = data.sort_values(by=[feature], ascending=False).head(int(cutoff))[\"Rank\"].to_list()\n",
    "            precision = sum([1 if i <= int(cutoff) else 0 for i in result]) * 1.0 / int(cutoff)\n",
    "            print(\"Precision@\" + cutoff + \" for \" + feature + \" on \" + project + \" is :\" + str(precision))"
   ]
  },
  {
   "cell_type": "code",
   "execution_count": null,
   "metadata": {},
   "outputs": [],
   "source": []
  },
  {
   "cell_type": "code",
   "execution_count": null,
   "metadata": {},
   "outputs": [],
   "source": [
    "project = \"Cassandra\"\n",
    "data_dir = r\"E:\\IDEAWorkspace\\plover\\prioritization\\lrt\\\\\" + project + r\"Data\\folds5\""
   ]
  },
  {
   "cell_type": "code",
   "execution_count": null,
   "metadata": {},
   "outputs": [],
   "source": [
    "# cutoff of metrics\n",
    "cutoffs = [\"30\"]"
   ]
  },
  {
   "cell_type": "code",
   "execution_count": null,
   "metadata": {},
   "outputs": [],
   "source": [
    "# 1: MethodCalls\n",
    "# 2: PotentialMethodCall\n",
    "# 3: Instructions\n",
    "# 4: PotentialInstruction\n",
    "# 5: ExecutionFrequency\n",
    "# 6: MethodFrequency\n",
    "features = {\n",
    "    \"1\" : \"MethodCalls\", \n",
    "    \"2\" : \"PotentialMethodCall\",\n",
    "    \"3\" : \"Instructions\", \n",
    "    \"4\" : \"PotentialInstruction\",\n",
    "    \"5\" : \"ExecutionFrequency\",\n",
    "    \"6\" : \"MethodFrequency\"\n",
    "}"
   ]
  },
  {
   "cell_type": "code",
   "execution_count": null,
   "metadata": {},
   "outputs": [],
   "source": [
    "file_names = os.listdir(data_dir)"
   ]
  },
  {
   "cell_type": "code",
   "execution_count": null,
   "metadata": {},
   "outputs": [],
   "source": [
    "for feature in features.values():\n",
    "    for cutoff in cutoffs:\n",
    "        precisions = []\n",
    "        for test_file in file_names:\n",
    "            with open(os.path.join(data_dir, test_file), \"r\") as test_data:\n",
    "                raw_data = []\n",
    "                for line in test_data.readlines():\n",
    "                    items = line.strip().split(\" \")\n",
    "                    reverse_rank = int(items[0])\n",
    "                    logging_id = items[-1]\n",
    "                    method_calls = float(items[2].split(\":\")[1])\n",
    "                    potential_method_calls = float(items[3].split(\":\")[1])\n",
    "                    instructions = float(items[4].split(\":\")[1])\n",
    "                    potential_instructions = float(items[5].split(\":\")[1])\n",
    "                    frequency = float(items[6].split(\":\")[1])\n",
    "                    method_freq = float(items[7].split(\":\")[1])\n",
    "                    raw_data.append([logging_id, reverse_rank, method_calls, potential_method_calls, instructions, potential_instructions, frequency, method_freq])\n",
    "                columns = [\"LoggingID\", \"ReverseRank\"]\n",
    "                columns.extend(features.values())\n",
    "                data = pd.DataFrame(raw_data, columns=columns)\n",
    "                # sort data by ReverseRank, and assign right rank\n",
    "                data = data.sort_values(by=['ReverseRank'], ascending=False)\n",
    "                data[\"Rank\"] = np.arange(1, len(data)+1)\n",
    "                result = data.sort_values(by=[feature], ascending=False).head(int(cutoff))[\"Rank\"].to_list()\n",
    "                precision = sum([1 if i <= int(cutoff) else 0 for i in result]) * 1.0 / min(int(cutoff), len(result))\n",
    "#                 print(\"Precision@\" + cutoff + \" for \" + feature + \" on \" + project + \" \"+ test_file + \" is :\" + str(precision))\n",
    "                precisions.append(precision)\n",
    "        avg_precisions = sum(precisions) / len(precisions)\n",
    "#         print(\"Average precision@\" + cutoff + \" for \" + feature + \" on \" + project + \" is :\" + str(avg_precisions))\n",
    "        print(str(avg_precisions), end=\"\\t\")\n",
    "    print()"
   ]
  },
  {
   "cell_type": "code",
   "execution_count": null,
   "metadata": {},
   "outputs": [],
   "source": []
  }
 ],
 "metadata": {
  "kernelspec": {
   "display_name": "Python 3",
   "language": "python",
   "name": "python3"
  },
  "language_info": {
   "codemirror_mode": {
    "name": "ipython",
    "version": 3
   },
   "file_extension": ".py",
   "mimetype": "text/x-python",
   "name": "python",
   "nbconvert_exporter": "python",
   "pygments_lexer": "ipython3",
   "version": "3.7.3"
  }
 },
 "nbformat": 4,
 "nbformat_minor": 4
}
