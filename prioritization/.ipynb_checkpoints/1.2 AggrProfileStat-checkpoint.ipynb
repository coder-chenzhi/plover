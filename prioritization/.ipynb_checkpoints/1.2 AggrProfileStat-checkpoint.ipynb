{
 "cells": [
  {
   "cell_type": "code",
   "execution_count": 1,
   "metadata": {},
   "outputs": [],
   "source": [
    "import os\n",
    "import numpy as np\n",
    "import pandas as pd\n",
    "import matplotlib.pyplot as plt"
   ]
  },
  {
   "cell_type": "code",
   "execution_count": 2,
   "metadata": {},
   "outputs": [],
   "source": [
    "data_files = [\n",
    "    \"HadoopNewProfileStat1.csv\", \"HadoopNewProfileStat2.csv\", \"HadoopNewProfileStat3.csv\",\n",
    "    \"HadoopNewProfileStat4.csv\", \"HadoopNewProfileStat5.csv\", \"HadoopNewProfileStat6.csv\",\n",
    "    \"HadoopNewProfileStat7.csv\", \"HadoopNewProfileStat8.csv\", \"HadoopNewProfileStat9.csv\",\n",
    "    \"HadoopNewProfileStat10.csv\"\n",
    "]"
   ]
  },
  {
   "cell_type": "code",
   "execution_count": null,
   "metadata": {},
   "outputs": [],
   "source": [
    "for data_file in data_files:\n",
    "    data = pd.read_csv(data_file, header=None, skiprows=[0,1], \n",
    "                       names=[\"LoggingID\", \"Time(ns)Median\", \"Time(ns)Mean\", \"Time(ns)Max\", \"Time(ns)Sum\", \"Time(ns)Count\", \n",
    "                              \"Space(bytes)Median\", \"Space(bytes)Mean\", \"Space(bytes)Max\", \"Space(bytes)Sum\", \"Space(bytes)Count\"])"
   ]
  }
 ],
 "metadata": {
  "kernelspec": {
   "display_name": "Python 3",
   "language": "python",
   "name": "python3"
  },
  "language_info": {
   "codemirror_mode": {
    "name": "ipython",
    "version": 3
   },
   "file_extension": ".py",
   "mimetype": "text/x-python",
   "name": "python",
   "nbconvert_exporter": "python",
   "pygments_lexer": "ipython3",
   "version": "3.7.3"
  }
 },
 "nbformat": 4,
 "nbformat_minor": 4
}
