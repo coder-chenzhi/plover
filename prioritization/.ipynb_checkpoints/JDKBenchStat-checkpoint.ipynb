{
 "cells": [
  {
   "cell_type": "code",
   "execution_count": 1,
   "metadata": {},
   "outputs": [],
   "source": [
    "import numpy as np\n",
    "import pandas as pd\n",
    "import matplotlib.pyplot as plt"
   ]
  },
  {
   "cell_type": "code",
   "execution_count": 2,
   "metadata": {},
   "outputs": [],
   "source": [
    "data_dir = r'E:\\IDEAWorkspace\\autologguards\\docs\\profiler\\JDK_Profiler\\DacapoProfiler\\Summary.xlsx'"
   ]
  },
  {
   "cell_type": "code",
   "execution_count": 3,
   "metadata": {},
   "outputs": [],
   "source": [
    "xl = pd.ExcelFile(data_dir)"
   ]
  },
  {
   "cell_type": "code",
   "execution_count": 6,
   "metadata": {},
   "outputs": [
    {
     "data": {
      "text/plain": [
       "['Xalan400HotSpot',\n",
       " 'Tradesoap100HotSpot',\n",
       " 'Tradebeans100HotSpot',\n",
       " 'Tomcat500HotSpot',\n",
       " 'PMD200HotSpot',\n",
       " 'Lusearch100HotSpot',\n",
       " 'Eclipse1HotSpot',\n",
       " 'H2HotSpot',\n",
       " 'Luindex10HotSpot',\n",
       " 'Jython1HotSpot',\n",
       " 'Fog10HotSpot',\n",
       " 'Batik10HotSpot',\n",
       " 'Avrora200HotSpot']"
      ]
     },
     "execution_count": 6,
     "metadata": {},
     "output_type": "execute_result"
    }
   ],
   "source": [
    "sheet_names = xl.sheet_names\n",
    "xl.sheet_names  # see all sheet names"
   ]
  },
  {
   "cell_type": "code",
   "execution_count": 7,
   "metadata": {},
   "outputs": [],
   "source": [
    "sheets = {}\n",
    "for sheet_name in sheet_names:\n",
    "    sheets[sheet_name] = xl.parse(sheet_name, index_col=0)  # read a specific sheet to DataFrame"
   ]
  },
  {
   "cell_type": "code",
   "execution_count": 9,
   "metadata": {},
   "outputs": [],
   "source": [
    "data = {} # method_name : [total_time, call_count]"
   ]
  },
  {
   "cell_type": "code",
   "execution_count": 10,
   "metadata": {},
   "outputs": [],
   "source": [
    "test_sheet = sheets[\"Xalan400HotSpot\"]"
   ]
  },
  {
   "cell_type": "code",
   "execution_count": 15,
   "metadata": {},
   "outputs": [],
   "source": [
    "for sheet_name in sheets:\n",
    "    for i, row in sheets[sheet_name].iterrows():\n",
    "        method_name = i\n",
    "        call_count = row['Invocations']\n",
    "        total_time = row['Total Time (CPU) Raw']\n",
    "        if method_name in data:\n",
    "            data[method_name][0] += total_time\n",
    "            data[method_name][1] += call_count\n",
    "        else:\n",
    "            data[method_name] = [total_time, call_count]"
   ]
  },
  {
   "cell_type": "code",
   "execution_count": 18,
   "metadata": {},
   "outputs": [
    {
     "data": {
      "text/plain": [
       "19559"
      ]
     },
     "execution_count": 18,
     "metadata": {},
     "output_type": "execute_result"
    }
   ],
   "source": [
    "len(data)"
   ]
  },
  {
   "cell_type": "code",
   "execution_count": 19,
   "metadata": {},
   "outputs": [],
   "source": [
    "output_dir = data_dir = r'E:\\IDEAWorkspace\\autologguards\\docs\\profiler\\JDK_Profiler\\DacapoProfiler\\Accumulate.txt'"
   ]
  },
  {
   "cell_type": "code",
   "execution_count": 22,
   "metadata": {},
   "outputs": [],
   "source": [
    "with open(output_dir, 'w') as output:\n",
    "    for method in data:\n",
    "        output.write(method + \"\\t\" + str(data[method][0]) + \"\\t\" + str(data[method][1]) + \"\\n\")"
   ]
  },
  {
   "cell_type": "code",
   "execution_count": null,
   "metadata": {},
   "outputs": [],
   "source": []
  }
 ],
 "metadata": {
  "kernelspec": {
   "display_name": "Python 3",
   "language": "python",
   "name": "python3"
  },
  "language_info": {
   "codemirror_mode": {
    "name": "ipython",
    "version": 3
   },
   "file_extension": ".py",
   "mimetype": "text/x-python",
   "name": "python",
   "nbconvert_exporter": "python",
   "pygments_lexer": "ipython3",
   "version": "3.7.3"
  }
 },
 "nbformat": 4,
 "nbformat_minor": 4
}
