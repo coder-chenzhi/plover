{
 "cells": [
  {
   "cell_type": "code",
   "execution_count": 1,
   "metadata": {},
   "outputs": [],
   "source": [
    "import os\n",
    "import numpy as np\n",
    "import pandas as pd\n",
    "import matplotlib.pyplot as plt"
   ]
  },
  {
   "cell_type": "code",
   "execution_count": 2,
   "metadata": {},
   "outputs": [],
   "source": [
    "project = \"Hadoop\""
   ]
  },
  {
   "cell_type": "code",
   "execution_count": 3,
   "metadata": {},
   "outputs": [],
   "source": [
    "log_path = r\"H:\\Data\\PLOVER_TEST_LOG\\hadoop_test_log_summary6.log\""
   ]
  },
  {
   "cell_type": "code",
   "execution_count": 4,
   "metadata": {},
   "outputs": [],
   "source": [
    "data = pd.read_csv(log_path, sep=\"\\t\", header=None, names=[\"LoggingID\", \"Time(ns)\", \"Space(bytes)\"])"
   ]
  },
  {
   "cell_type": "code",
   "execution_count": 5,
   "metadata": {},
   "outputs": [],
   "source": [
    "log_ids = np.unique(data[\"LoggingID\"])"
   ]
  },
  {
   "cell_type": "code",
   "execution_count": 6,
   "metadata": {},
   "outputs": [
    {
     "data": {
      "text/plain": [
       "217"
      ]
     },
     "execution_count": 6,
     "metadata": {},
     "output_type": "execute_result"
    }
   ],
   "source": [
    "len(log_ids)"
   ]
  },
  {
   "cell_type": "code",
   "execution_count": 7,
   "metadata": {},
   "outputs": [
    {
     "data": {
      "text/plain": [
       "array(['0218b02b-8678', '04d3446f-1f82', '0765a0ae-0739', '084a85f5-b279',\n",
       "       '09c62754-a65d', '0aa471e0-41a5', '0aba8b67-dc9d', '0ba98518-957f',\n",
       "       '0be4c2d8-afae', '0c7d337b-d8cb', '0e3e39d0-abbc', '0e73067c-6125',\n",
       "       '0f5120ad-6c87', '102289d4-ca7e', '10d131df-d475', '12736e5c-961a',\n",
       "       '1568e735-c675', '1b183d01-a828', '1b2e16f0-5b8c', '1b7374e2-c4ce',\n",
       "       '1c0c07ae-92d0', '1c3f593f-8fba', '1e3b860e-e752', '1f0f199b-4a5b',\n",
       "       '1fd5c829-b4f4', '2058911d-6abd', '20f7ac32-1a57', '22b64e14-87dd',\n",
       "       '238290e4-6aea', '24c9dba5-6722', '24fbe370-73a8', '2730ce63-9b21',\n",
       "       '275b55c3-a920', '2859b70f-5964', '28c03cd9-09b4', '2afb3090-5a8e',\n",
       "       '2b92ad30-7196', '2d554615-8122', '2ebc8b83-a2ce', '2f311aa1-bf33',\n",
       "       '30dcdd99-9a88', '33e0135a-fb3e', '3429a7c1-ade8', '386dd6ed-fa3a',\n",
       "       '38e291df-63a0', '3ba07e24-e22b', '3ea1bbc3-b184', '4124683f-9980',\n",
       "       '423730c0-7503', '435ad4d4-2098', '4572219d-3b00', '4721ab8f-dec6',\n",
       "       '4729ec0f-2b18', '49957e0a-d95c', '4a15af6a-e00c', '4a9c52fc-f0bc',\n",
       "       '4b52fb86-e04c', '4b66a4bd-7c22', '5085b5b4-92a7', '50caa02f-8c96',\n",
       "       '5129edf7-54b0', '51d41358-4194', '54cc8b79-6e18', '56330a17-6542',\n",
       "       '58195306-8607', '5855eafa-7b76', '5d5465a6-f32e', '5d9bd2d7-d0ee',\n",
       "       '5dfef005-59ff', '5e812cfa-d054', '60ee54e1-7b84', '6102dacd-1ca5',\n",
       "       '61a2bb6e-794a', '6261c60b-3006', '62df68c8-99e2', '635b2ff8-c5f5',\n",
       "       '641f568e-faaa', '64410e89-9de5', '64b031bb-fbd3', '67aef21d-cb28',\n",
       "       '68d275f1-34aa', '695ead0e-25ca', '6ba8d941-6f65', '6bff29aa-2dc8',\n",
       "       '6c1c2e64-20ba', '6d132a99-9d92', '6d174fc0-8101', '6d88ef5e-4838',\n",
       "       '6dff2bb2-d0b6', '6f83a6ae-af9e', '705ae6c4-5711', '70a2e78e-fccd',\n",
       "       '70c0dc68-62db', '70decd5f-3383', '7178fd83-17a3', '729287b3-23ce',\n",
       "       '74298e88-6e15', '7468811d-181a', '75328f07-8494', '76938588-262b',\n",
       "       '7754c682-e48e', '7aaaaccf-a1fc', '7da2357a-551a', '7f611258-00f4',\n",
       "       '818b128d-46c5', '8564d66f-7e83', '85f791a1-4568', '8a87006d-4295',\n",
       "       '8bdfe62b-4acd', '90e4fc61-f8c5', '91ee7090-91df', '920fd9eb-3c63',\n",
       "       '924f104a-6f50', '9275fb8d-0629', '929b97d1-dbc8', '93977772-519c',\n",
       "       '95070d04-1329', '952fb746-54eb', '9539710d-da47', '99e997b8-cd11',\n",
       "       '9a890938-97d7', '9ae994c1-907e', '9b096025-df6b', '9be72353-765f',\n",
       "       '9c74a09a-f991', '9cb0fe9d-2a03', '9cb6fb0b-24d9', 'a0aebd98-df82',\n",
       "       'a0f8b938-056f', 'a1c98f22-ce2f', 'a264e24f-2c0e', 'a31b2741-85f5',\n",
       "       'a4f50d04-05f8', 'a656a450-2a5e', 'a727a7f6-612c', 'a7e2f770-302a',\n",
       "       'a7ecf72d-88b0', 'a98b0228-7872', 'aade32bf-b15f', 'ab4b919b-0f28',\n",
       "       'aca26c8f-7fad', 'acb185af-8830', 'ad05e29a-1d3e', 'afb75477-d1a9',\n",
       "       'b16d59b5-41f2', 'b291db57-b14b', 'b37c84ff-21c6', 'b43a4efc-d345',\n",
       "       'b497b81b-b750', 'b4b202a4-1133', 'b60293d6-e32b', 'b6f44009-3101',\n",
       "       'b9e20b78-9dab', 'bb69a3e9-d2cb', 'bdaabee5-6d10', 'bdcc6a35-c4d7',\n",
       "       'be2d0811-9c20', 'c05d23fb-689b', 'c0ceee88-bf09', 'c12c10e4-7a68',\n",
       "       'c3b46859-b6a5', 'c5d66fec-3a16', 'c719a9ea-31b7', 'c71f95da-931d',\n",
       "       'c85e09ab-5ef9', 'cb094ff2-264f', 'cb5274fd-09aa', 'cc0dd5d9-f063',\n",
       "       'ccf40895-f157', 'cf7e9a55-1465', 'cfaedbdb-27a3', 'cff05332-f1ca',\n",
       "       'cff23f85-d325', 'd100afa6-ea4c', 'd264fbcf-c7e8', 'd30ed417-1b7a',\n",
       "       'd4ac3cf2-053b', 'd4df4045-e8f4', 'd564f930-a041', 'd596e8c6-b726',\n",
       "       'd670547a-ae26', 'd67e58aa-9337', 'd688d402-cb38', 'd6bd82eb-a8a5',\n",
       "       'd71b9852-ae35', 'd87b22e3-cda5', 'd9f2fe67-5afb', 'dce6df15-21e1',\n",
       "       'dd280a69-05de', 'dd7ec59d-2fc8', 'de6dcc0e-9441', 'deb4c236-81d2',\n",
       "       'dfc06fa1-f6bd', 'e09f777b-1797', 'e0fd4289-d1e8', 'e1040770-8d31',\n",
       "       'e2813d86-aba4', 'e2b3c47c-5c36', 'e37422be-b37b', 'e3eb7808-9067',\n",
       "       'e4369113-8c33', 'e97af303-1189', 'ea179097-bb4e', 'ea5e69a7-d537',\n",
       "       'ecda844d-267e', 'ece5ae94-9e3e', 'f37f8aff-098d', 'f3d6ea49-cfa6',\n",
       "       'f5e8d58e-a5a8', 'f5e93cfa-5c8c', 'f79c1b69-c606', 'f7ccd965-9015',\n",
       "       'f7dfbe08-a9b4', 'f829c07f-a409', 'f9a72dc4-5ba2', 'fd5e0ee4-c103',\n",
       "       'ff7a6536-49ab'], dtype=object)"
      ]
     },
     "execution_count": 7,
     "metadata": {},
     "output_type": "execute_result"
    }
   ],
   "source": [
    "log_ids"
   ]
  },
  {
   "cell_type": "code",
   "execution_count": 8,
   "metadata": {},
   "outputs": [],
   "source": [
    "with open(project+\"ID.txt\", \"r\") as full_log_id_file:\n",
    "    full_log_ids = [log_id.strip() for log_id in full_log_id_file.readlines()]"
   ]
  },
  {
   "cell_type": "code",
   "execution_count": 9,
   "metadata": {},
   "outputs": [
    {
     "data": {
      "text/plain": [
       "233"
      ]
     },
     "execution_count": 9,
     "metadata": {},
     "output_type": "execute_result"
    }
   ],
   "source": [
    "len(full_log_ids)"
   ]
  },
  {
   "cell_type": "code",
   "execution_count": 10,
   "metadata": {},
   "outputs": [
    {
     "data": {
      "text/plain": [
       "array(['0009e475-4435', '0b4ca77d-67ca', '1b1daf38-935a', '41f8f1b3-4ae6',\n",
       "       '4962b99d-1a68', '4d871011-eb7b', '6030ead4-bc44', '69ca19e4-f003',\n",
       "       '6e99c06d-920f', '769d634b-aa81', '89d661fd-854e', '912812e3-b80a',\n",
       "       '985d1c28-d451', '988f11dc-301c', '9c035fd1-9304', 'a4de7ec0-fdb3',\n",
       "       'a517dd36-0e9c', 'af32c962-852f', 'b0a97e48-b072', 'cdd025a4-62ce',\n",
       "       'e346843e-dac3', 'e393bf70-99cc', 'e8a05d2b-8c38', 'efd41e62-fedd'],\n",
       "      dtype='<U13')"
      ]
     },
     "execution_count": 10,
     "metadata": {},
     "output_type": "execute_result"
    }
   ],
   "source": [
    "np.setdiff1d(full_log_ids, log_ids)"
   ]
  },
  {
   "cell_type": "code",
   "execution_count": 11,
   "metadata": {},
   "outputs": [
    {
     "data": {
      "text/plain": [
       "array(['1c0c07ae-92d0', '2859b70f-5964', '2b92ad30-7196', '2f311aa1-bf33',\n",
       "       '75328f07-8494', '76938588-262b', '7754c682-e48e', 'f7dfbe08-a9b4'],\n",
       "      dtype=object)"
      ]
     },
     "execution_count": 11,
     "metadata": {},
     "output_type": "execute_result"
    }
   ],
   "source": [
    "np.setdiff1d(log_ids, full_log_ids)"
   ]
  },
  {
   "cell_type": "code",
   "execution_count": 12,
   "metadata": {},
   "outputs": [],
   "source": [
    "data = data.set_index([\"LoggingID\"])"
   ]
  },
  {
   "cell_type": "code",
   "execution_count": 13,
   "metadata": {},
   "outputs": [],
   "source": [
    "data = data.groupby([\"LoggingID\"])"
   ]
  },
  {
   "cell_type": "code",
   "execution_count": 14,
   "metadata": {},
   "outputs": [],
   "source": [
    "basic_stat = data.agg(\n",
    "    {\n",
    "        'Time(ns)': ['median', 'mean', 'max', 'sum', 'count'],\n",
    "        'Space(bytes)': ['median', 'mean', 'max', 'sum', 'count']\n",
    "    }\n",
    ")"
   ]
  },
  {
   "cell_type": "code",
   "execution_count": 15,
   "metadata": {},
   "outputs": [],
   "source": [
    "basic_stat.to_csv(project+\"NewProfileStat6.csv\")"
   ]
  }
 ],
 "metadata": {
  "kernelspec": {
   "display_name": "Python 3",
   "language": "python",
   "name": "python3"
  },
  "language_info": {
   "codemirror_mode": {
    "name": "ipython",
    "version": 3
   },
   "file_extension": ".py",
   "mimetype": "text/x-python",
   "name": "python",
   "nbconvert_exporter": "python",
   "pygments_lexer": "ipython3",
   "version": "3.7.3"
  }
 },
 "nbformat": 4,
 "nbformat_minor": 4
}
