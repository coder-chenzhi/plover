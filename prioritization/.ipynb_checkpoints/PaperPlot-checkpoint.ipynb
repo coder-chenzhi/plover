{
 "cells": [
  {
   "cell_type": "code",
   "execution_count": 38,
   "metadata": {},
   "outputs": [],
   "source": [
    "import numpy as np\n",
    "import pandas as pd\n",
    "import matplotlib.pyplot as plt\n",
    "import matplotlib.patheffects as path_effects\n",
    "import seaborn as sns"
   ]
  },
  {
   "cell_type": "code",
   "execution_count": 39,
   "metadata": {},
   "outputs": [],
   "source": [
    "def create_median_labels(ax, has_fliers):\n",
    "    lines = ax.get_lines()\n",
    "    # depending on fliers, toggle between 5 and 6 lines per box\n",
    "    lines_per_box = 5 + int(has_fliers)\n",
    "    # iterate directly over all median lines, with an interval of lines_per_box\n",
    "    # this enables labeling of grouped data without relying on tick positions\n",
    "    for median_line in lines[4:len(lines):lines_per_box]:\n",
    "        # get center of median line\n",
    "        mean_x = sum(median_line._x) / len(median_line._x)\n",
    "        mean_y = sum(median_line._y) / len(median_line._y)\n",
    "        # print text to center coordinates\n",
    "        text = ax.text(mean_x, mean_y, f'{mean_y:.1f}',\n",
    "                       ha='center', va='center',\n",
    "                       fontweight='bold', size=10, color='white')\n",
    "        # create small black border around white text\n",
    "        # for better readability on multi-colored boxes\n",
    "        text.set_path_effects([\n",
    "            path_effects.Stroke(linewidth=3, foreground='black'),\n",
    "            path_effects.Normal(),\n",
    "        ])"
   ]
  },
  {
   "cell_type": "code",
   "execution_count": 29,
   "metadata": {},
   "outputs": [],
   "source": [
    "data = {\n",
    "    \"Reviewer\": {\n",
    "        \"Guard insertion\": [20,15,5,5,4,3,3,3,2,2,2,2,2,2,2,1,1,1,1,1,1,1,1,1,1,1,1,1,1,1,1,1,1,1,1,1,1,1,1,1,1,1,1],\n",
    "        \"Guard deletion\": [28,14,10,7,5,4,3,3,2,1,1,1,1,1,1,1,1,1,1,1,1,1],\n",
    "        \"Guard update\": [5,1,1,1]\n",
    "    },\n",
    "    \"Contributor\": {\n",
    "        \"Guard insertion\": [189,107,106,61,43,31,25,23,23,21,17,6,4,3,2,1,1,1,1,1,1,1],\n",
    "        \"Guard deletion\": [421,139,76,48,26,19,18,17,15,10,8,8,7,6,5,5,5,4,2,2,1,1,1,1,1,1,1],\n",
    "        \"Guard update\": [228,4,2,2,2,14,1,1,1,1,1,1,1,1,1,1,1]\n",
    "    }\n",
    "}"
   ]
  },
  {
   "cell_type": "code",
   "execution_count": 30,
   "metadata": {},
   "outputs": [],
   "source": [
    "df = pd.DataFrame({\"Discover\":[], \"Type\":[], \"Count\": []}) "
   ]
  },
  {
   "cell_type": "code",
   "execution_count": 31,
   "metadata": {},
   "outputs": [
    {
     "data": {
      "text/html": [
       "<div>\n",
       "<style scoped>\n",
       "    .dataframe tbody tr th:only-of-type {\n",
       "        vertical-align: middle;\n",
       "    }\n",
       "\n",
       "    .dataframe tbody tr th {\n",
       "        vertical-align: top;\n",
       "    }\n",
       "\n",
       "    .dataframe thead th {\n",
       "        text-align: right;\n",
       "    }\n",
       "</style>\n",
       "<table border=\"1\" class=\"dataframe\">\n",
       "  <thead>\n",
       "    <tr style=\"text-align: right;\">\n",
       "      <th></th>\n",
       "      <th>Discover</th>\n",
       "      <th>Type</th>\n",
       "      <th>Count</th>\n",
       "    </tr>\n",
       "  </thead>\n",
       "  <tbody>\n",
       "  </tbody>\n",
       "</table>\n",
       "</div>"
      ],
      "text/plain": [
       "Empty DataFrame\n",
       "Columns: [Discover, Type, Count]\n",
       "Index: []"
      ]
     },
     "execution_count": 31,
     "metadata": {},
     "output_type": "execute_result"
    }
   ],
   "source": [
    "df"
   ]
  },
  {
   "cell_type": "code",
   "execution_count": 32,
   "metadata": {},
   "outputs": [],
   "source": [
    "for discover in data:\n",
    "    discover_data = data[discover]\n",
    "    for type in discover_data:\n",
    "        type_data = discover_data[type]\n",
    "        for count in type_data:\n",
    "            df_tmp = pd.DataFrame({\"Discover\":[discover], \"Type\":[type], \"Count\": [count]}) \n",
    "            df = df.append(df_tmp)"
   ]
  },
  {
   "cell_type": "code",
   "execution_count": 33,
   "metadata": {},
   "outputs": [
    {
     "data": {
      "text/html": [
       "<div>\n",
       "<style scoped>\n",
       "    .dataframe tbody tr th:only-of-type {\n",
       "        vertical-align: middle;\n",
       "    }\n",
       "\n",
       "    .dataframe tbody tr th {\n",
       "        vertical-align: top;\n",
       "    }\n",
       "\n",
       "    .dataframe thead th {\n",
       "        text-align: right;\n",
       "    }\n",
       "</style>\n",
       "<table border=\"1\" class=\"dataframe\">\n",
       "  <thead>\n",
       "    <tr style=\"text-align: right;\">\n",
       "      <th></th>\n",
       "      <th>Discover</th>\n",
       "      <th>Type</th>\n",
       "      <th>Count</th>\n",
       "    </tr>\n",
       "  </thead>\n",
       "  <tbody>\n",
       "    <tr>\n",
       "      <th>0</th>\n",
       "      <td>Reviewer</td>\n",
       "      <td>Guard insertion</td>\n",
       "      <td>20.0</td>\n",
       "    </tr>\n",
       "    <tr>\n",
       "      <th>0</th>\n",
       "      <td>Reviewer</td>\n",
       "      <td>Guard insertion</td>\n",
       "      <td>15.0</td>\n",
       "    </tr>\n",
       "    <tr>\n",
       "      <th>0</th>\n",
       "      <td>Reviewer</td>\n",
       "      <td>Guard insertion</td>\n",
       "      <td>5.0</td>\n",
       "    </tr>\n",
       "    <tr>\n",
       "      <th>0</th>\n",
       "      <td>Reviewer</td>\n",
       "      <td>Guard insertion</td>\n",
       "      <td>5.0</td>\n",
       "    </tr>\n",
       "    <tr>\n",
       "      <th>0</th>\n",
       "      <td>Reviewer</td>\n",
       "      <td>Guard insertion</td>\n",
       "      <td>4.0</td>\n",
       "    </tr>\n",
       "    <tr>\n",
       "      <th>...</th>\n",
       "      <td>...</td>\n",
       "      <td>...</td>\n",
       "      <td>...</td>\n",
       "    </tr>\n",
       "    <tr>\n",
       "      <th>0</th>\n",
       "      <td>Contributor</td>\n",
       "      <td>Guard update</td>\n",
       "      <td>1.0</td>\n",
       "    </tr>\n",
       "    <tr>\n",
       "      <th>0</th>\n",
       "      <td>Contributor</td>\n",
       "      <td>Guard update</td>\n",
       "      <td>1.0</td>\n",
       "    </tr>\n",
       "    <tr>\n",
       "      <th>0</th>\n",
       "      <td>Contributor</td>\n",
       "      <td>Guard update</td>\n",
       "      <td>1.0</td>\n",
       "    </tr>\n",
       "    <tr>\n",
       "      <th>0</th>\n",
       "      <td>Contributor</td>\n",
       "      <td>Guard update</td>\n",
       "      <td>1.0</td>\n",
       "    </tr>\n",
       "    <tr>\n",
       "      <th>0</th>\n",
       "      <td>Contributor</td>\n",
       "      <td>Guard update</td>\n",
       "      <td>1.0</td>\n",
       "    </tr>\n",
       "  </tbody>\n",
       "</table>\n",
       "<p>135 rows × 3 columns</p>\n",
       "</div>"
      ],
      "text/plain": [
       "       Discover             Type  Count\n",
       "0      Reviewer  Guard insertion   20.0\n",
       "0      Reviewer  Guard insertion   15.0\n",
       "0      Reviewer  Guard insertion    5.0\n",
       "0      Reviewer  Guard insertion    5.0\n",
       "0      Reviewer  Guard insertion    4.0\n",
       "..          ...              ...    ...\n",
       "0   Contributor     Guard update    1.0\n",
       "0   Contributor     Guard update    1.0\n",
       "0   Contributor     Guard update    1.0\n",
       "0   Contributor     Guard update    1.0\n",
       "0   Contributor     Guard update    1.0\n",
       "\n",
       "[135 rows x 3 columns]"
      ]
     },
     "execution_count": 33,
     "metadata": {},
     "output_type": "execute_result"
    }
   ],
   "source": [
    "df"
   ]
  },
  {
   "cell_type": "code",
   "execution_count": 75,
   "metadata": {},
   "outputs": [
    {
     "data": {
      "text/html": [
       "<div>\n",
       "<style scoped>\n",
       "    .dataframe tbody tr th:only-of-type {\n",
       "        vertical-align: middle;\n",
       "    }\n",
       "\n",
       "    .dataframe tbody tr th {\n",
       "        vertical-align: top;\n",
       "    }\n",
       "\n",
       "    .dataframe thead tr th {\n",
       "        text-align: left;\n",
       "    }\n",
       "\n",
       "    .dataframe thead tr:last-of-type th {\n",
       "        text-align: right;\n",
       "    }\n",
       "</style>\n",
       "<table border=\"1\" class=\"dataframe\">\n",
       "  <thead>\n",
       "    <tr>\n",
       "      <th></th>\n",
       "      <th></th>\n",
       "      <th colspan=\"3\" halign=\"left\">Count</th>\n",
       "    </tr>\n",
       "    <tr>\n",
       "      <th></th>\n",
       "      <th></th>\n",
       "      <th>sum</th>\n",
       "      <th>max</th>\n",
       "      <th>min</th>\n",
       "    </tr>\n",
       "    <tr>\n",
       "      <th>Discover</th>\n",
       "      <th>Type</th>\n",
       "      <th></th>\n",
       "      <th></th>\n",
       "      <th></th>\n",
       "    </tr>\n",
       "  </thead>\n",
       "  <tbody>\n",
       "    <tr>\n",
       "      <th rowspan=\"3\" valign=\"top\">Contributor</th>\n",
       "      <th>Guard deletion</th>\n",
       "      <td>848.0</td>\n",
       "      <td>421.0</td>\n",
       "      <td>1.0</td>\n",
       "    </tr>\n",
       "    <tr>\n",
       "      <th>Guard insertion</th>\n",
       "      <td>668.0</td>\n",
       "      <td>189.0</td>\n",
       "      <td>1.0</td>\n",
       "    </tr>\n",
       "    <tr>\n",
       "      <th>Guard update</th>\n",
       "      <td>263.0</td>\n",
       "      <td>228.0</td>\n",
       "      <td>1.0</td>\n",
       "    </tr>\n",
       "    <tr>\n",
       "      <th rowspan=\"3\" valign=\"top\">Reviewer</th>\n",
       "      <th>Guard deletion</th>\n",
       "      <td>89.0</td>\n",
       "      <td>28.0</td>\n",
       "      <td>1.0</td>\n",
       "    </tr>\n",
       "    <tr>\n",
       "      <th>Guard insertion</th>\n",
       "      <td>100.0</td>\n",
       "      <td>20.0</td>\n",
       "      <td>1.0</td>\n",
       "    </tr>\n",
       "    <tr>\n",
       "      <th>Guard update</th>\n",
       "      <td>8.0</td>\n",
       "      <td>5.0</td>\n",
       "      <td>1.0</td>\n",
       "    </tr>\n",
       "  </tbody>\n",
       "</table>\n",
       "</div>"
      ],
      "text/plain": [
       "                             Count            \n",
       "                               sum    max  min\n",
       "Discover    Type                              \n",
       "Contributor Guard deletion   848.0  421.0  1.0\n",
       "            Guard insertion  668.0  189.0  1.0\n",
       "            Guard update     263.0  228.0  1.0\n",
       "Reviewer    Guard deletion    89.0   28.0  1.0\n",
       "            Guard insertion  100.0   20.0  1.0\n",
       "            Guard update       8.0    5.0  1.0"
      ]
     },
     "execution_count": 75,
     "metadata": {},
     "output_type": "execute_result"
    }
   ],
   "source": [
    "df.groupby([\"Discover\", \"Type\"]).agg({\"Count\": [sum, max, min]})"
   ]
  },
  {
   "cell_type": "code",
   "execution_count": 76,
   "metadata": {},
   "outputs": [
    {
     "data": {
      "text/html": [
       "<div>\n",
       "<style scoped>\n",
       "    .dataframe tbody tr th:only-of-type {\n",
       "        vertical-align: middle;\n",
       "    }\n",
       "\n",
       "    .dataframe tbody tr th {\n",
       "        vertical-align: top;\n",
       "    }\n",
       "\n",
       "    .dataframe thead th {\n",
       "        text-align: right;\n",
       "    }\n",
       "</style>\n",
       "<table border=\"1\" class=\"dataframe\">\n",
       "  <thead>\n",
       "    <tr style=\"text-align: right;\">\n",
       "      <th></th>\n",
       "      <th></th>\n",
       "      <th>Count</th>\n",
       "    </tr>\n",
       "    <tr>\n",
       "      <th>Discover</th>\n",
       "      <th>Type</th>\n",
       "      <th></th>\n",
       "    </tr>\n",
       "  </thead>\n",
       "  <tbody>\n",
       "    <tr>\n",
       "      <th rowspan=\"3\" valign=\"top\">Contributor</th>\n",
       "      <th>Guard deletion</th>\n",
       "      <td>31.407407</td>\n",
       "    </tr>\n",
       "    <tr>\n",
       "      <th>Guard insertion</th>\n",
       "      <td>30.363636</td>\n",
       "    </tr>\n",
       "    <tr>\n",
       "      <th>Guard update</th>\n",
       "      <td>15.470588</td>\n",
       "    </tr>\n",
       "    <tr>\n",
       "      <th rowspan=\"3\" valign=\"top\">Reviewer</th>\n",
       "      <th>Guard deletion</th>\n",
       "      <td>4.045455</td>\n",
       "    </tr>\n",
       "    <tr>\n",
       "      <th>Guard insertion</th>\n",
       "      <td>2.325581</td>\n",
       "    </tr>\n",
       "    <tr>\n",
       "      <th>Guard update</th>\n",
       "      <td>2.000000</td>\n",
       "    </tr>\n",
       "  </tbody>\n",
       "</table>\n",
       "</div>"
      ],
      "text/plain": [
       "                                 Count\n",
       "Discover    Type                      \n",
       "Contributor Guard deletion   31.407407\n",
       "            Guard insertion  30.363636\n",
       "            Guard update     15.470588\n",
       "Reviewer    Guard deletion    4.045455\n",
       "            Guard insertion   2.325581\n",
       "            Guard update      2.000000"
      ]
     },
     "execution_count": 76,
     "metadata": {},
     "output_type": "execute_result"
    }
   ],
   "source": [
    "df.groupby([\"Discover\", \"Type\"]).mean()"
   ]
  },
  {
   "cell_type": "code",
   "execution_count": 36,
   "metadata": {},
   "outputs": [
    {
     "data": {
      "image/png": "[encoded data removed]",
      "text/plain": [
       "<Figure size 432x288 with 1 Axes>"
      ]
     },
     "metadata": {},
     "output_type": "display_data"
    }
   ],
   "source": [
    "sns.set_style('whitegrid') \n",
    "graph = sns.boxplot(x=\"Type\", y=\"Count\", hue=\"Discover\", data=df)\n",
    "graph.set_yscale(\"log\")"
   ]
  },
  {
   "cell_type": "code",
   "execution_count": 80,
   "metadata": {},
   "outputs": [
    {
     "data": {
      "image/png": "[encoded data removed]",
      "text/plain": [
       "<Figure size 576x432 with 1 Axes>"
      ]
     },
     "metadata": {},
     "output_type": "display_data"
    }
   ],
   "source": [
    "#sns.set_style(\"whitegrid\")\n",
    "plt.style.use('ggplot')\n",
    "plt.rc('font', family='Times New Roman')\n",
    "plt.rcParams[\"figure.figsize\"] = (8,6)\n",
    "\n",
    "# optionally disable fliers\n",
    "showfliers = True\n",
    "# plot data and create median labels\n",
    "box_plot = sns.boxplot(x=\"Type\", y=\"Count\", hue=\"Discover\", width=0.8, data=df, showfliers=showfliers)\n",
    "\n",
    "# the_table = plt.table(cellText=[[\"1\", \"2\", \"3\", \"4\", \"5\", \"6\"],\n",
    "#                                 [\"1\", \"2\", \"3\", \"4\", \"5\", \"6\"],\n",
    "#                                 [\"1\", \"11.5\", \"1\", \"6\", \"1\", \"1\"],\n",
    "#                                 [\"1\", \"2\", \"3\", \"4\", \"5\", \"6\"],\n",
    "#                                 [\"1\", \"1\", \"1\", \"1\", \"1\", \"1\"]],\n",
    "#                       rowLabels=[\"sum\", \"mean\", \"median\", \"max\", \"min\"],\n",
    "#                       rowLoc='center',\n",
    "#                       colLoc='center',\n",
    "#                       loc='top')\n",
    "\n",
    "create_median_labels(box_plot.axes, showfliers)\n",
    "\n",
    "box_plot.set_yscale(\"log\")\n",
    "\n",
    "legend = plt.legend()\n",
    "plt.setp(legend.get_texts(), color='black')\n",
    "plt.gca().legend(loc='upper left')\n",
    "plt.gca().tick_params(axis='x', colors='black')\n",
    "plt.gca().tick_params(axis='y', colors='black')\n",
    "plt.gca().set_xlabel(\"\", color='black')\n",
    "plt.gca().set_ylabel(\"Change Size\", color='black')\n",
    "plt.savefig(\"E:/Stat.pdf\",  bbox_inches='tight', dpi=300)\n",
    "plt.show()"
   ]
  },
  {
   "cell_type": "code",
   "execution_count": null,
   "metadata": {},
   "outputs": [],
   "source": []
  }
 ],
 "metadata": {
  "kernelspec": {
   "display_name": "Python 3",
   "language": "python",
   "name": "python3"
  },
  "language_info": {
   "codemirror_mode": {
    "name": "ipython",
    "version": 3
   },
   "file_extension": ".py",
   "mimetype": "text/x-python",
   "name": "python",
   "nbconvert_exporter": "python",
   "pygments_lexer": "ipython3",
   "version": "3.7.3"
  }
 },
 "nbformat": 4,
 "nbformat_minor": 4
}
