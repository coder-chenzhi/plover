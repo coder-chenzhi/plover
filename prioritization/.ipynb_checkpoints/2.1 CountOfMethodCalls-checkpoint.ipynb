{
 "cells": [
  {
   "cell_type": "code",
   "execution_count": 7,
   "metadata": {},
   "outputs": [],
   "source": [
    "import re"
   ]
  },
  {
   "cell_type": "code",
   "execution_count": 8,
   "metadata": {},
   "outputs": [],
   "source": [
    "project = \"ZooKeeper\"\n",
    "data_dir = r'E:\\IDEAWorkspace\\autologguards\\docs\\result\\\\' + project + '_Data_Control_SideEffect_Raw_Result.txt'\n",
    "output_dir = project + '_Count_Of_Method_Calls.txt'"
   ]
  },
  {
   "cell_type": "code",
   "execution_count": 9,
   "metadata": {},
   "outputs": [
    {
     "data": {
      "text/plain": [
       "[]"
      ]
     },
     "execution_count": 9,
     "metadata": {},
     "output_type": "execute_result"
    }
   ],
   "source": [
    "string = \"-> if $stack54 == 0 goto (branch) AT LINE 544 with ID\"\n",
    "re.findall(\"\\w{8}-\\w{4}\", string)"
   ]
  },
  {
   "cell_type": "code",
   "execution_count": 10,
   "metadata": {},
   "outputs": [],
   "source": [
    "data = {}\n",
    "with open(data_dir, \"r\") as data_file:\n",
    "    for line in data_file.readlines():\n",
    "        ids = re.findall(\"\\w{8}-\\w{4}\", line)\n",
    "        if len(ids) != 0:\n",
    "            if (\"interfaceinvoke\" in line or \"virtualinvoke\" in line or \"staticinvoke\" in line or \"specialinvoke\" in line) and \\\n",
    "            (\"goto interfaceinvoke\" not in line and \"goto virtualinvoke\" not in line and \"goto staticinvoke\" not in line and \"goto staticinvoke\" not in line) and \\\n",
    "            (\"isDebugEnabled\" not in line and \"isTraceEnabled\" not in line):\n",
    "                for log_id in ids:\n",
    "                    if log_id in data:\n",
    "                        data[log_id] = data[log_id] + 1\n",
    "                    else:\n",
    "                        data[log_id] = 1\n",
    "            "
   ]
  },
  {
   "cell_type": "code",
   "execution_count": 11,
   "metadata": {},
   "outputs": [
    {
     "data": {
      "text/plain": [
       "197"
      ]
     },
     "execution_count": 11,
     "metadata": {},
     "output_type": "execute_result"
    }
   ],
   "source": [
    "len(data)"
   ]
  },
  {
   "cell_type": "code",
   "execution_count": 12,
   "metadata": {},
   "outputs": [],
   "source": [
    "with open(output_dir, \"w\") as output_file:\n",
    "    output_file.write(\"LoggingID\\tMethodCalls\\n\")\n",
    "    for log_id in data:\n",
    "        output_file.write(str(log_id) + \"\\t\" + str(data[log_id]) + \"\\n\")"
   ]
  },
  {
   "cell_type": "code",
   "execution_count": null,
   "metadata": {},
   "outputs": [],
   "source": []
  }
 ],
 "metadata": {
  "kernelspec": {
   "display_name": "Python 3",
   "language": "python",
   "name": "python3"
  },
  "language_info": {
   "codemirror_mode": {
    "name": "ipython",
    "version": 3
   },
   "file_extension": ".py",
   "mimetype": "text/x-python",
   "name": "python",
   "nbconvert_exporter": "python",
   "pygments_lexer": "ipython3",
   "version": "3.7.3"
  }
 },
 "nbformat": 4,
 "nbformat_minor": 4
}
