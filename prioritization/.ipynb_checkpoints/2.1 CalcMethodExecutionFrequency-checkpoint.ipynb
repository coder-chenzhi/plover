{
 "cells": [
  {
   "cell_type": "code",
   "execution_count": 1,
   "metadata": {},
   "outputs": [],
   "source": [
    "import numpy as np\n",
    "import pandas as pd\n",
    "import re\n",
    "import json"
   ]
  },
  {
   "cell_type": "code",
   "execution_count": 2,
   "metadata": {},
   "outputs": [],
   "source": [
    "project = \"ZooKeeper\"\n",
    "guards_result_path = r\"E:\\IDEAWorkspace\\autologguards\\docs\\result\\\\\" + project + \"_Data_Control_SideEffect_Raw_Result_WIthLineNum.txt\""
   ]
  },
  {
   "cell_type": "code",
   "execution_count": 3,
   "metadata": {},
   "outputs": [],
   "source": [
    "string = \"2021-01-19 13:57:26 [INFO] - Find overhead at method <org.apache.hadoop.hdfs.server.datanode.ShortCircuitRegistry: org.apache.hadoop.hdfs.server.datanode.ShortCircuitRegistry$NewShmInfo createNewMemorySegment(java.lang.String,org.apache.hadoop.net.unix.DomainSocket)>:305 has 16 units and 4 lines\""
   ]
  },
  {
   "cell_type": "code",
   "execution_count": 4,
   "metadata": {},
   "outputs": [],
   "source": [
    "header_template = re.compile(r'.*Find overhead at method <(\\S+).*>:(\\w+).*')"
   ]
  },
  {
   "cell_type": "code",
   "execution_count": 5,
   "metadata": {},
   "outputs": [
    {
     "data": {
      "text/plain": [
       "[('org.apache.hadoop.hdfs.server.datanode.ShortCircuitRegistry:', '305')]"
      ]
     },
     "execution_count": 5,
     "metadata": {},
     "output_type": "execute_result"
    }
   ],
   "source": [
    "header_template.findall(string)"
   ]
  },
  {
   "cell_type": "code",
   "execution_count": 6,
   "metadata": {},
   "outputs": [],
   "source": [
    "logging_records = []\n",
    "with open(guards_result_path, \"r\") as guards_result_file:\n",
    "    lines = guards_result_file.readlines()\n",
    "    ids = set()\n",
    "    for line in lines:\n",
    "        if \"Find overhead at method\" in line:\n",
    "            if len(ids) != 0:\n",
    "                for pre_id in ids:\n",
    "                    logging_records.append([file_name, line_num, pre_id])\n",
    "#                     print(file_name, line_num, pre_id)\n",
    "            ids = set()\n",
    "            matched = header_template.findall(line)\n",
    "            class_name = matched[0][0][:-1]\n",
    "            if \"$\" in class_name:\n",
    "                file_name = class_name[class_name.rfind(\".\")+1:class_name.find(\"$\")]+\".java\"\n",
    "            else:\n",
    "                file_name = class_name[class_name.rfind(\".\")+1:]+\".java\"\n",
    "            line_num = matched[0][1]\n",
    "        else:\n",
    "            new_ids = re.findall(\"\\w{8}-\\w{4}\", line)\n",
    "            ids.update(new_ids)"
   ]
  },
  {
   "cell_type": "code",
   "execution_count": 7,
   "metadata": {},
   "outputs": [],
   "source": [
    "method_hit_path = \"E:\\IDEAWorkspace\\\\autologguards\\docs\\coverage\\\\\" + project.lower() + \"\\MethodsHit.txt\""
   ]
  },
  {
   "cell_type": "code",
   "execution_count": 8,
   "metadata": {},
   "outputs": [],
   "source": [
    "with open(method_hit_path, \"r\") as method_hit_file:\n",
    "    lines = method_hit_file.readlines()\n",
    "    raw_hits = []\n",
    "    for line in lines:\n",
    "        if \".java\" in line:\n",
    "            raw_hits.append(line.strip().split(\"\\t\"))"
   ]
  },
  {
   "cell_type": "code",
   "execution_count": 9,
   "metadata": {},
   "outputs": [],
   "source": [
    "hits = pd.DataFrame(raw_hits)"
   ]
  },
  {
   "cell_type": "code",
   "execution_count": 10,
   "metadata": {},
   "outputs": [],
   "source": [
    "hits.columns = [\"FileName\", \"ClassName\", \"MethodName\", \"HitCount\", \"LineNum\"]"
   ]
  },
  {
   "cell_type": "code",
   "execution_count": 11,
   "metadata": {},
   "outputs": [],
   "source": [
    "hits = hits.set_index([\"FileName\", \"LineNum\"])"
   ]
  },
  {
   "cell_type": "code",
   "execution_count": 12,
   "metadata": {},
   "outputs": [
    {
     "data": {
      "text/html": [
       "<div>\n",
       "<style scoped>\n",
       "    .dataframe tbody tr th:only-of-type {\n",
       "        vertical-align: middle;\n",
       "    }\n",
       "\n",
       "    .dataframe tbody tr th {\n",
       "        vertical-align: top;\n",
       "    }\n",
       "\n",
       "    .dataframe thead th {\n",
       "        text-align: right;\n",
       "    }\n",
       "</style>\n",
       "<table border=\"1\" class=\"dataframe\">\n",
       "  <thead>\n",
       "    <tr style=\"text-align: right;\">\n",
       "      <th></th>\n",
       "      <th></th>\n",
       "      <th>ClassName</th>\n",
       "      <th>MethodName</th>\n",
       "      <th>HitCount</th>\n",
       "    </tr>\n",
       "    <tr>\n",
       "      <th>FileName</th>\n",
       "      <th>LineNum</th>\n",
       "      <th></th>\n",
       "      <th></th>\n",
       "      <th></th>\n",
       "    </tr>\n",
       "  </thead>\n",
       "  <tbody>\n",
       "    <tr>\n",
       "      <th rowspan=\"5\" valign=\"top\">AuthenticatedURL.java</th>\n",
       "      <th>265</th>\n",
       "      <td>AuthenticatedURL</td>\n",
       "      <td>setDefaultAuthenticator(Class&lt;? extends Authen...</td>\n",
       "      <td>0</td>\n",
       "    </tr>\n",
       "    <tr>\n",
       "      <th>275</th>\n",
       "      <td>AuthenticatedURL</td>\n",
       "      <td>getDefaultAuthenticator() : Class&lt;? extends Au...</td>\n",
       "      <td>0</td>\n",
       "    </tr>\n",
       "    <tr>\n",
       "      <th>285</th>\n",
       "      <td>AuthenticatedURL</td>\n",
       "      <td>AuthenticatedURL()</td>\n",
       "      <td>14</td>\n",
       "    </tr>\n",
       "    <tr>\n",
       "      <th>295</th>\n",
       "      <td>AuthenticatedURL</td>\n",
       "      <td>AuthenticatedURL(Authenticator)</td>\n",
       "      <td>25</td>\n",
       "    </tr>\n",
       "    <tr>\n",
       "      <th>306</th>\n",
       "      <td>AuthenticatedURL</td>\n",
       "      <td>AuthenticatedURL(Authenticator,ConnectionConfi...</td>\n",
       "      <td>1535</td>\n",
       "    </tr>\n",
       "    <tr>\n",
       "      <th>...</th>\n",
       "      <th>...</th>\n",
       "      <td>...</td>\n",
       "      <td>...</td>\n",
       "      <td>...</td>\n",
       "    </tr>\n",
       "    <tr>\n",
       "      <th rowspan=\"5\" valign=\"top\">TestWebAppProxyServlet.java</th>\n",
       "      <th>485</th>\n",
       "      <td>TestWebAppProxyServlet.WebAppProxyForTest</td>\n",
       "      <td>serviceStart() : void</td>\n",
       "      <td>3</td>\n",
       "    </tr>\n",
       "    <tr>\n",
       "      <th>524</th>\n",
       "      <td>TestWebAppProxyServlet.AppReportFetcherForTest</td>\n",
       "      <td>AppReportFetcherForTest(Configuration)</td>\n",
       "      <td>3</td>\n",
       "    </tr>\n",
       "    <tr>\n",
       "      <th>528</th>\n",
       "      <td>TestWebAppProxyServlet.AppReportFetcherForTest</td>\n",
       "      <td>getApplicationReport(ApplicationId) : FetchedA...</td>\n",
       "      <td>9</td>\n",
       "    </tr>\n",
       "    <tr>\n",
       "      <th>565</th>\n",
       "      <td>TestWebAppProxyServlet.AppReportFetcherForTest</td>\n",
       "      <td>getDefaultApplicationReport(ApplicationId,bool...</td>\n",
       "      <td>7</td>\n",
       "    </tr>\n",
       "    <tr>\n",
       "      <th>584</th>\n",
       "      <td>TestWebAppProxyServlet.AppReportFetcherForTest</td>\n",
       "      <td>getDefaultApplicationReport(ApplicationId) : F...</td>\n",
       "      <td>5</td>\n",
       "    </tr>\n",
       "  </tbody>\n",
       "</table>\n",
       "<p>93552 rows × 3 columns</p>\n",
       "</div>"
      ],
      "text/plain": [
       "                                                                          ClassName  \\\n",
       "FileName                    LineNum                                                   \n",
       "AuthenticatedURL.java       265                                    AuthenticatedURL   \n",
       "                            275                                    AuthenticatedURL   \n",
       "                            285                                    AuthenticatedURL   \n",
       "                            295                                    AuthenticatedURL   \n",
       "                            306                                    AuthenticatedURL   \n",
       "...                                                                             ...   \n",
       "TestWebAppProxyServlet.java 485           TestWebAppProxyServlet.WebAppProxyForTest   \n",
       "                            524      TestWebAppProxyServlet.AppReportFetcherForTest   \n",
       "                            528      TestWebAppProxyServlet.AppReportFetcherForTest   \n",
       "                            565      TestWebAppProxyServlet.AppReportFetcherForTest   \n",
       "                            584      TestWebAppProxyServlet.AppReportFetcherForTest   \n",
       "\n",
       "                                                                            MethodName  \\\n",
       "FileName                    LineNum                                                      \n",
       "AuthenticatedURL.java       265      setDefaultAuthenticator(Class<? extends Authen...   \n",
       "                            275      getDefaultAuthenticator() : Class<? extends Au...   \n",
       "                            285                                     AuthenticatedURL()   \n",
       "                            295                        AuthenticatedURL(Authenticator)   \n",
       "                            306      AuthenticatedURL(Authenticator,ConnectionConfi...   \n",
       "...                                                                                ...   \n",
       "TestWebAppProxyServlet.java 485                                  serviceStart() : void   \n",
       "                            524                 AppReportFetcherForTest(Configuration)   \n",
       "                            528      getApplicationReport(ApplicationId) : FetchedA...   \n",
       "                            565      getDefaultApplicationReport(ApplicationId,bool...   \n",
       "                            584      getDefaultApplicationReport(ApplicationId) : F...   \n",
       "\n",
       "                                    HitCount  \n",
       "FileName                    LineNum           \n",
       "AuthenticatedURL.java       265            0  \n",
       "                            275            0  \n",
       "                            285           14  \n",
       "                            295           25  \n",
       "                            306         1535  \n",
       "...                                      ...  \n",
       "TestWebAppProxyServlet.java 485            3  \n",
       "                            524            3  \n",
       "                            528            9  \n",
       "                            565            7  \n",
       "                            584            5  \n",
       "\n",
       "[93552 rows x 3 columns]"
      ]
     },
     "execution_count": 12,
     "metadata": {},
     "output_type": "execute_result"
    }
   ],
   "source": [
    "hits"
   ]
  },
  {
   "cell_type": "code",
   "execution_count": 17,
   "metadata": {},
   "outputs": [],
   "source": [
    "hits.groupby([\"FileName\", \"LineNum\"]).agg(['count']).to_csv(\"test.csv\")"
   ]
  },
  {
   "cell_type": "code",
   "execution_count": 13,
   "metadata": {},
   "outputs": [],
   "source": [
    "#hits.loc[\"SaslQuorumServerCallbackHandler.java\", \"52\"][\"HitCount\"]"
   ]
  },
  {
   "cell_type": "code",
   "execution_count": null,
   "metadata": {},
   "outputs": [],
   "source": [
    "for record in logging_records:\n",
    "    exception = True\n",
    "    \n",
    "    line_num = int(record[1])\n",
    "    print(\"Try to find \" + record[0] + \" \" + record[1])\n",
    "    while(exception):\n",
    "        if (line_num < 0):\n",
    "            # try to increase\n",
    "            inner_exception = True\n",
    "            line_num = int(record[1])+1\n",
    "            while(inner_exception):\n",
    "                if (line_num > 10000):\n",
    "                    print(\"Not found\")\n",
    "                    inner_exception = False\n",
    "                try:\n",
    "                    hit_count = hits.loc[record[0], str(line_num)][\"HitCount\"]\n",
    "                    print(\"Found at \" + str(line_num))\n",
    "                    print(\"MAP\", record[2], hit_count[0], sep=\"\\t\")\n",
    "                    inner_exception = False\n",
    "                except:\n",
    "                    line_num += 1\n",
    "            \n",
    "            exception = False\n",
    "        try:\n",
    "            hit_count = hits.loc[record[0], str(line_num)][\"HitCount\"]\n",
    "            print(\"Found at \" + str(line_num))\n",
    "            print(\"MAP\", record[2], hit_count[0], sep=\"\\t\")\n",
    "            exception = False\n",
    "        except:\n",
    "            line_num -= 1"
   ]
  },
  {
   "cell_type": "code",
   "execution_count": null,
   "metadata": {},
   "outputs": [],
   "source": []
  }
 ],
 "metadata": {
  "kernelspec": {
   "display_name": "Python 3",
   "language": "python",
   "name": "python3"
  },
  "language_info": {
   "codemirror_mode": {
    "name": "ipython",
    "version": 3
   },
   "file_extension": ".py",
   "mimetype": "text/x-python",
   "name": "python",
   "nbconvert_exporter": "python",
   "pygments_lexer": "ipython3",
   "version": "3.7.3"
  }
 },
 "nbformat": 4,
 "nbformat_minor": 4
}
