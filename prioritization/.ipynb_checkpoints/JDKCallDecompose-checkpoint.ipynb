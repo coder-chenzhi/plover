{
 "cells": [
  {
   "cell_type": "code",
   "execution_count": 30,
   "metadata": {},
   "outputs": [],
   "source": [
    "import json\n",
    "import collections\n",
    "import numpy as np\n",
    "import pandas as pd\n",
    "import matplotlib.pyplot as plt"
   ]
  },
  {
   "cell_type": "code",
   "execution_count": 39,
   "metadata": {},
   "outputs": [],
   "source": [
    "project = \"zookeeper\"\n",
    "data_dir = r\"E:\\IDEAWorkspace\\autologguards\\docs\\profiler\\call_jdk_methods_\" + project + \".log\""
   ]
  },
  {
   "cell_type": "code",
   "execution_count": 40,
   "metadata": {},
   "outputs": [],
   "source": [
    "with open(data_dir, \"r\") as data_file:\n",
    "    lines = data_file.readlines()\n",
    "    json_raw = []\n",
    "    start = 0\n",
    "    end = 0\n",
    "    for i, line in enumerate(lines):\n",
    "        if line.startswith(\"Enter\"):\n",
    "            start = i+1\n",
    "#             print(\"Start: \", start)\n",
    "        if line.startswith(\"Exit\"):\n",
    "            end = i\n",
    "#             print(\"End: \", end)\n",
    "            json_raw.append(\"\".join(lines[start:end]))"
   ]
  },
  {
   "cell_type": "code",
   "execution_count": null,
   "metadata": {},
   "outputs": [],
   "source": [
    "all_methods = []\n",
    "for json_entry in json_raw:\n",
    "    method_call = json.loads(json_entry)\n",
    "    all_methods.extend(method_call[\"jdkMethods\"])\n",
    "    if (len(method_call[\"jdkMethods\"]) > 1):\n",
    "        print(len(method_call[\"jdkMethods\"]))\n",
    "        print(method_call[\"methodName\"])\n",
    "        print(method_call[\"unitContent\"])"
   ]
  },
  {
   "cell_type": "code",
   "execution_count": 43,
   "metadata": {},
   "outputs": [
    {
     "data": {
      "text/plain": [
       "1051"
      ]
     },
     "execution_count": 43,
     "metadata": {},
     "output_type": "execute_result"
    }
   ],
   "source": [
    "len(all_methods)"
   ]
  },
  {
   "cell_type": "code",
   "execution_count": 44,
   "metadata": {},
   "outputs": [],
   "source": [
    "counter=collections.Counter(all_methods)"
   ]
  },
  {
   "cell_type": "code",
   "execution_count": 45,
   "metadata": {},
   "outputs": [
    {
     "name": "stdout",
     "output_type": "stream",
     "text": [
      "50\n"
     ]
    }
   ],
   "source": [
    "print(len(counter.keys()))"
   ]
  },
  {
   "cell_type": "code",
   "execution_count": null,
   "metadata": {},
   "outputs": [],
   "source": [
    "print(counter)"
   ]
  },
  {
   "cell_type": "code",
   "execution_count": null,
   "metadata": {},
   "outputs": [],
   "source": []
  }
 ],
 "metadata": {
  "kernelspec": {
   "display_name": "Python 3",
   "language": "python",
   "name": "python3"
  },
  "language_info": {
   "codemirror_mode": {
    "name": "ipython",
    "version": 3
   },
   "file_extension": ".py",
   "mimetype": "text/x-python",
   "name": "python",
   "nbconvert_exporter": "python",
   "pygments_lexer": "ipython3",
   "version": "3.7.3"
  }
 },
 "nbformat": 4,
 "nbformat_minor": 4
}
