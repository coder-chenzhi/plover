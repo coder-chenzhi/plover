{
 "cells": [
  {
   "cell_type": "code",
   "execution_count": 1,
   "metadata": {},
   "outputs": [],
   "source": [
    "import os\n",
    "import re\n",
    "import matplotlib.pyplot as plt"
   ]
  },
  {
   "cell_type": "code",
   "execution_count": null,
   "metadata": {},
   "outputs": [],
   "source": [
    "test_cases_with_log = [\n",
    "    \"org.apache.zookeeper.ClientReconnectTest\",\n",
    "    \"org.apache.zookeeper.common.TimeTest\",\n",
    "    \"org.apache.zookeeper.SaslAuthTest\",\n",
    "    \"org.apache.zookeeper.server.CRCTest\",\n",
    "    \"org.apache.zookeeper.server.DataTreeTest\",\n",
    "    \"org.apache.zookeeper.server.DataTreeUnitTest\",\n",
    "    \"org.apache.zookeeper.server.DeserializationPerfTest\",\n",
    "    \"org.apache.zookeeper.server.InvalidSnapCountTest\",\n",
    "    \"org.apache.zookeeper.server.InvalidSnapshotTest\",\n",
    "    \"org.apache.zookeeper.server.NettyServerCnxnTest\",\n",
    "    \"org.apache.zookeeper.server.NIOServerCnxnTest\",\n",
    "    \"org.apache.zookeeper.server.persistence.FileTxnLogTest\",\n",
    "    \"org.apache.zookeeper.server.persistence.FileTxnSnapLogTest\",\n",
    "    \"org.apache.zookeeper.server.PrepRequestProcessorTest\",\n",
    "    \"org.apache.zookeeper.server.PurgeTxnTest\",\n",
    "    \"org.apache.zookeeper.server.quorum.auth.QuorumAuthUpgradeTest\",\n",
    "    \"org.apache.zookeeper.server.quorum.auth.QuorumDigestAuthTest\",\n",
    "    \"org.apache.zookeeper.server.quorum.auth.QuorumKerberosAuthTest\",\n",
    "    \"org.apache.zookeeper.server.quorum.auth.QuorumKerberosHostBasedAuthTest\",\n",
    "    \"org.apache.zookeeper.server.quorum.CnxManagerTest\",\n",
    "    \"org.apache.zookeeper.server.quorum.EphemeralNodeDeletionTest\",\n",
    "    \"org.apache.zookeeper.server.quorum.FLEBackwardElectionRoundTest\",\n",
    "    \"org.apache.zookeeper.server.quorum.FLECompatibilityTest\",\n",
    "    \"org.apache.zookeeper.server.quorum.FLEDontCareTest\",\n",
    "    \"org.apache.zookeeper.server.quorum.FLELostMessageTest\",\n",
    "    \"org.apache.zookeeper.server.quorum.LeaderBeanTest\",\n",
    "    \"org.apache.zookeeper.server.quorum.LeaderWithObserverTest\",\n",
    "    \"org.apache.zookeeper.server.quorum.LearnerTest\",\n",
    "    \"org.apache.zookeeper.server.quorum.QuorumCnxManagerTest\",\n",
    "    \"org.apache.zookeeper.server.quorum.QuorumPeerMainTest\",\n",
    "    \"org.apache.zookeeper.server.quorum.WatchLeakTest\",\n",
    "    \"org.apache.zookeeper.server.quorum.Zab1_0Test\",\n",
    "    \"org.apache.zookeeper.server.SerializationPerfTest\",\n",
    "    \"org.apache.zookeeper.server.SessionTrackerTest\",\n",
    "    \"org.apache.zookeeper.server.ZooKeeperServerMainTest\",\n",
    "    \"org.apache.zookeeper.server.ZooKeeperServerStartupTest\",\n",
    "    \"org.apache.zookeeper.server.ZxidRolloverTest\",\n",
    "    \"org.apache.zookeeper.test.ACLCountTest\",\n",
    "    \"org.apache.zookeeper.test.ACLRootTest\",\n",
    "    \"org.apache.zookeeper.test.ACLTest\",\n",
    "    \"org.apache.zookeeper.test.AsyncHammerTest\",\n",
    "    \"org.apache.zookeeper.test.AsyncOpsTest\",\n",
    "    \"org.apache.zookeeper.test.AsyncTest\",\n",
    "    \"org.apache.zookeeper.test.AuthTest\",\n",
    "    \"org.apache.zookeeper.test.BufferSizeTest\",\n",
    "    \"org.apache.zookeeper.test.ChrootAsyncTest\",\n",
    "    \"org.apache.zookeeper.test.ChrootClientTest\",\n",
    "    \"org.apache.zookeeper.test.ChrootTest\",\n",
    "    \"org.apache.zookeeper.test.ClientHammerTest\",\n",
    "    \"org.apache.zookeeper.test.ClientPortBindTest\",\n",
    "    \"org.apache.zookeeper.test.ClientTest\",\n",
    "    \"org.apache.zookeeper.test.DisconnectedWatcherTest\",\n",
    "    \"org.apache.zookeeper.test.FLENewEpochTest\",\n",
    "    \"org.apache.zookeeper.test.FLEPredicateTest\",\n",
    "    \"org.apache.zookeeper.test.FLERestartTest\",\n",
    "    \"org.apache.zookeeper.test.FLETest\",\n",
    "    \"org.apache.zookeeper.test.FLEZeroWeightTest\",\n",
    "    \"org.apache.zookeeper.test.FollowerResyncConcurrencyTest\",\n",
    "    \"org.apache.zookeeper.test.FollowerTest\",\n",
    "    \"org.apache.zookeeper.test.FourLetterWordsQuorumTest\",\n",
    "    \"org.apache.zookeeper.test.FourLetterWordsTest\",\n",
    "    \"org.apache.zookeeper.test.FourLetterWordsWhiteListTest\",\n",
    "    \"org.apache.zookeeper.test.GetChildren2Test\",\n",
    "    \"org.apache.zookeeper.test.HierarchicalQuorumTest\",\n",
    "    \"org.apache.zookeeper.test.InvalidSnapshotTest\",\n",
    "    \"org.apache.zookeeper.test.LENonTerminateTest\",\n",
    "    \"org.apache.zookeeper.test.LETest\",\n",
    "    \"org.apache.zookeeper.test.LoadFromLogNoServerTest\",\n",
    "    \"org.apache.zookeeper.test.LoadFromLogTest\",\n",
    "    \"org.apache.zookeeper.test.MaxCnxnsTest\",\n",
    "    \"org.apache.zookeeper.test.MultiTransactionTest\",\n",
    "    \"org.apache.zookeeper.test.NioNettySuiteHammerTest\",\n",
    "    \"org.apache.zookeeper.test.NioNettySuiteTest\",\n",
    "    \"org.apache.zookeeper.test.NonRecoverableErrorTest\",\n",
    "    \"org.apache.zookeeper.test.NullDataTest\",\n",
    "    \"org.apache.zookeeper.test.ObserverHierarchicalQuorumTest\",\n",
    "    \"org.apache.zookeeper.test.ObserverLETest\",\n",
    "    \"org.apache.zookeeper.test.ObserverQuorumHammerTest\",\n",
    "    \"org.apache.zookeeper.test.ObserverTest\",\n",
    "    \"org.apache.zookeeper.test.QuorumHammerTest\",\n",
    "    \"org.apache.zookeeper.test.QuorumQuotaTest\",\n",
    "    \"org.apache.zookeeper.test.QuorumTest\",\n",
    "    \"org.apache.zookeeper.test.QuorumZxidSyncTest\",\n",
    "    \"org.apache.zookeeper.test.ReadOnlyModeTest\",\n",
    "    \"org.apache.zookeeper.test.RecoveryTest\",\n",
    "    \"org.apache.zookeeper.test.RepeatStartupTest\",\n",
    "    \"org.apache.zookeeper.test.RestoreCommittedLogTest\",\n",
    "    \"org.apache.zookeeper.test.SaslAuthDesignatedClientTest\",\n",
    "    \"org.apache.zookeeper.test.SaslAuthDesignatedServerTest\",\n",
    "    \"org.apache.zookeeper.test.SaslAuthFailDesignatedClientTest\",\n",
    "    \"org.apache.zookeeper.test.SaslAuthFailNotifyTest\",\n",
    "    \"org.apache.zookeeper.test.SaslAuthFailTest\",\n",
    "    \"org.apache.zookeeper.test.SaslAuthMissingClientConfigTest\",\n",
    "    \"org.apache.zookeeper.test.SessionInvalidationTest\",\n",
    "    \"org.apache.zookeeper.test.SessionTest\",\n",
    "    \"org.apache.zookeeper.test.SessionTimeoutTest\",\n",
    "    \"org.apache.zookeeper.test.StandaloneTest\",\n",
    "    \"org.apache.zookeeper.test.StatTest\",\n",
    "    \"org.apache.zookeeper.test.SyncCallTest\",\n",
    "    \"org.apache.zookeeper.test.TruncateTest\",\n",
    "    \"org.apache.zookeeper.test.UpgradeTest\",\n",
    "    \"org.apache.zookeeper.test.WatcherFuncTest\",\n",
    "    \"org.apache.zookeeper.test.WatcherTest\",\n",
    "    \"org.apache.zookeeper.test.ZkDatabaseCorruptionTest\",\n",
    "    \"org.apache.zookeeper.test.ZooKeeperQuotaTest\",\n",
    "    \"org.apache.zookeeper.ZooKeeperTest\"\n",
    "]"
   ]
  },
  {
   "cell_type": "code",
   "execution_count": 2,
   "metadata": {},
   "outputs": [],
   "source": [
    "orginal_logs_dir = r\"F:\\Data\\test_bench_zookeeper_logs_origin\"\n",
    "diable_guards_logs_dir = r\"F:\\Data\\test_bench_zookeeper_logs_disable_guards\""
   ]
  },
  {
   "cell_type": "code",
   "execution_count": 3,
   "metadata": {},
   "outputs": [],
   "source": [
    "runtime = re.compile(r'.*Total time: (\\w+) minutes (\\w+) seconds.*')"
   ]
  },
  {
   "cell_type": "code",
   "execution_count": 4,
   "metadata": {},
   "outputs": [
    {
     "data": {
      "text/plain": [
       "[('30', '48')]"
      ]
     },
     "execution_count": 4,
     "metadata": {},
     "output_type": "execute_result"
    }
   ],
   "source": [
    "runtime.findall(\"This is a test \\n Total time: 30 minutes 48 seconds\")"
   ]
  },
  {
   "cell_type": "code",
   "execution_count": 5,
   "metadata": {},
   "outputs": [
    {
     "data": {
      "text/plain": [
       "['Total time: 30 minutes 48 seconds']"
      ]
     },
     "execution_count": 5,
     "metadata": {},
     "output_type": "execute_result"
    }
   ],
   "source": [
    "string = \"Total time: 30 minutes 48 seconds\"\n",
    "re.findall(r'^Total time: \\w+ minutes \\w+ seconds', string)"
   ]
  },
  {
   "cell_type": "code",
   "execution_count": 6,
   "metadata": {},
   "outputs": [],
   "source": [
    "orginal_total_times = []\n",
    "orginal_testcase_times = {}\n",
    "for fname in os.listdir(orginal_logs_dir):\n",
    "    with open(os.path.join(orginal_logs_dir, fname), \"r\", encoding=\"utf-8\", errors=\"ignore\") as log:\n",
    "        content = log.read()\n",
    "        total_time = runtime.findall(content)\n",
    "        orginal_total_times.append(int(total_time[0][0]) * 60 + int(total_time[0][1]))\n",
    "        for line in content.splitlines():\n",
    "            if \"[junit] Running \" in line:\n",
    "                test_name = line[line.find(\"[junit] Running \")+len(\"[junit] Running \"):]\n",
    "            if \"Time elapsed: \" in line:\n",
    "                elapsed_time = line[line.find(\"Time elapsed: \")+len(\"Time elapsed: \"): line.find(\" sec\")]\n",
    "                if test_name in orginal_testcase_times:\n",
    "                    orginal_testcase_times[test_name].append(float(elapsed_time))\n",
    "                else:\n",
    "                    orginal_testcase_times[test_name] = [float(elapsed_time)]"
   ]
  },
  {
   "cell_type": "code",
   "execution_count": 7,
   "metadata": {},
   "outputs": [
    {
     "name": "stdout",
     "output_type": "stream",
     "text": [
      "1798.1176470588234\n"
     ]
    }
   ],
   "source": [
    "print(sum(orginal_total_times)/len(orginal_total_times))"
   ]
  },
  {
   "cell_type": "code",
   "execution_count": 8,
   "metadata": {},
   "outputs": [
    {
     "data": {
      "text/plain": [
       "[1848,\n",
       " 1764,\n",
       " 1870,\n",
       " 1846,\n",
       " 1793,\n",
       " 1781,\n",
       " 1831,\n",
       " 1754,\n",
       " 1767,\n",
       " 1750,\n",
       " 1757,\n",
       " 1858,\n",
       " 1799,\n",
       " 1831,\n",
       " 1923,\n",
       " 1842,\n",
       " 1865,\n",
       " 1828,\n",
       " 1895,\n",
       " 1923,\n",
       " 1827,\n",
       " 1855,\n",
       " 1780,\n",
       " 1800,\n",
       " 1829,\n",
       " 1796,\n",
       " 1751,\n",
       " 1745,\n",
       " 1771,\n",
       " 1765,\n",
       " 1767,\n",
       " 1753,\n",
       " 1773,\n",
       " 1787,\n",
       " 1753,\n",
       " 1742,\n",
       " 1742,\n",
       " 1763,\n",
       " 1753,\n",
       " 1742,\n",
       " 1853,\n",
       " 1799,\n",
       " 1815,\n",
       " 1840,\n",
       " 1746,\n",
       " 1771,\n",
       " 1835,\n",
       " 1771,\n",
       " 1737,\n",
       " 1760,\n",
       " 1758]"
      ]
     },
     "execution_count": 8,
     "metadata": {},
     "output_type": "execute_result"
    }
   ],
   "source": [
    "orginal_total_times"
   ]
  },
  {
   "cell_type": "code",
   "execution_count": 9,
   "metadata": {},
   "outputs": [
    {
     "data": {
      "text/plain": [
       "133"
      ]
     },
     "execution_count": 9,
     "metadata": {},
     "output_type": "execute_result"
    }
   ],
   "source": [
    "len(orginal_testcase_times)"
   ]
  },
  {
   "cell_type": "code",
   "execution_count": 10,
   "metadata": {},
   "outputs": [],
   "source": [
    "disable_guards_total_times = []\n",
    "disable_guards_testcase_times = {}\n",
    "for fname in os.listdir(diable_guards_logs_dir):\n",
    "    with open(os.path.join(diable_guards_logs_dir, fname), \"r\", encoding=\"utf-8\", errors=\"ignore\") as log:\n",
    "        content = log.read()\n",
    "        total_time = runtime.findall(content)\n",
    "        disable_guards_total_times.append(int(total_time[0][0]) * 60 + int(total_time[0][1]))\n",
    "        for line in content.splitlines():\n",
    "            if \"[junit] Running \" in line:\n",
    "                test_name = line[line.find(\"[junit] Running \")+len(\"[junit] Running \"):]\n",
    "            if \"Time elapsed: \" in line:\n",
    "                elapsed_time = line[line.find(\"Time elapsed: \")+len(\"Time elapsed: \"): line.find(\" sec\")]\n",
    "                if test_name in disable_guards_testcase_times:\n",
    "                    disable_guards_testcase_times[test_name].append(float(elapsed_time))\n",
    "                else:\n",
    "                    disable_guards_testcase_times[test_name] = [float(elapsed_time)]"
   ]
  },
  {
   "cell_type": "code",
   "execution_count": 11,
   "metadata": {},
   "outputs": [
    {
     "name": "stdout",
     "output_type": "stream",
     "text": [
      "1815.549019607843\n"
     ]
    }
   ],
   "source": [
    "print(sum(disable_guards_total_times)/len(disable_guards_total_times))"
   ]
  },
  {
   "cell_type": "code",
   "execution_count": 12,
   "metadata": {},
   "outputs": [
    {
     "data": {
      "text/plain": [
       "[1736,\n",
       " 1826,\n",
       " 1982,\n",
       " 1752,\n",
       " 1766,\n",
       " 1753,\n",
       " 1750,\n",
       " 1754,\n",
       " 1868,\n",
       " 1813,\n",
       " 1791,\n",
       " 1761,\n",
       " 1777,\n",
       " 1838,\n",
       " 1869,\n",
       " 1857,\n",
       " 1798,\n",
       " 1831,\n",
       " 1865,\n",
       " 1836,\n",
       " 1819,\n",
       " 1860,\n",
       " 1867,\n",
       " 1872,\n",
       " 1817,\n",
       " 1773,\n",
       " 1787,\n",
       " 1825,\n",
       " 1859,\n",
       " 1829,\n",
       " 1831,\n",
       " 1875,\n",
       " 1799,\n",
       " 1784,\n",
       " 1903,\n",
       " 1817,\n",
       " 1873,\n",
       " 1834,\n",
       " 1783,\n",
       " 1805,\n",
       " 1779,\n",
       " 1756,\n",
       " 1757,\n",
       " 1770,\n",
       " 1848,\n",
       " 1751,\n",
       " 1841,\n",
       " 1838,\n",
       " 1833,\n",
       " 1773,\n",
       " 1812]"
      ]
     },
     "execution_count": 12,
     "metadata": {},
     "output_type": "execute_result"
    }
   ],
   "source": [
    "disable_guards_total_times"
   ]
  },
  {
   "cell_type": "code",
   "execution_count": 13,
   "metadata": {},
   "outputs": [
    {
     "name": "stdout",
     "output_type": "stream",
     "text": [
      "org.apache.jute.BinaryInputArchiveTest\t-0.013108614232209673\n",
      "org.apache.zookeeper.ClientReconnectTest\t-0.00443615257048098\n",
      "org.apache.zookeeper.MultiResponseTest\t-0.02739726027397263\n",
      "org.apache.zookeeper.MultiTransactionRecordTest\t0.035398230088495616\n",
      "org.apache.zookeeper.SaslAuthTest\t-0.018404907975459607\n",
      "org.apache.zookeeper.ServerConfigTest\t0.02592592592592596\n",
      "org.apache.zookeeper.VerGenTest\t0.00608070757324507\n",
      "org.apache.zookeeper.ZooKeeperTest\t-0.010583453806497565\n",
      "org.apache.zookeeper.common.TimeTest\t0.0028026301606122817\n",
      "org.apache.zookeeper.server.CRCTest\t-0.00012806477598969134\n",
      "org.apache.zookeeper.server.DataNodeTest\t0.011605415860735024\n",
      "org.apache.zookeeper.server.DataTreeTest\t-0.050903725562523046\n",
      "org.apache.zookeeper.server.DataTreeUnitTest\t0.004065040650406509\n",
      "org.apache.zookeeper.server.DatadirCleanupManagerTest\t-0.07368421052631538\n",
      "org.apache.zookeeper.server.DeserializationPerfTest\t-0.019435446552522218\n",
      "org.apache.zookeeper.server.InvalidSnapCountTest\t0.0035166240409213213\n",
      "org.apache.zookeeper.server.InvalidSnapshotTest\t-0.0008290350114147538\n",
      "org.apache.zookeeper.server.NIOServerCnxnTest\t0.001286865161210299\n",
      "org.apache.zookeeper.server.NettyServerCnxnTest\t0.02053252813615159\n",
      "org.apache.zookeeper.server.PrepRequestProcessorTest\t0.00019611688566376054\n",
      "org.apache.zookeeper.server.PurgeTxnTest\t0.0003237469426801657\n",
      "org.apache.zookeeper.server.ReferenceCountedACLCacheTest\t-0.09251968503937016\n",
      "org.apache.zookeeper.server.SerializationPerfTest\t0.0027238379755734335\n",
      "org.apache.zookeeper.server.ServerStatsTest\t-0.008704302412335418\n",
      "org.apache.zookeeper.server.SessionTrackerTest\t0.01553103157754721\n",
      "org.apache.zookeeper.server.ToStringTest\t-0.026548672566371653\n",
      "org.apache.zookeeper.server.ZooKeeperServerMainTest\t0.0001989737776677257\n",
      "org.apache.zookeeper.server.ZooKeeperServerStartupTest\t0.007005771791237527\n",
      "org.apache.zookeeper.server.ZooKeeperServerTest\t-0.016169154228855804\n",
      "org.apache.zookeeper.server.ZooKeeperThreadTest\t-0.08327299058653101\n",
      "org.apache.zookeeper.server.ZxidRolloverTest\t0.027375052365013995\n",
      "org.apache.zookeeper.server.persistence.FileTxnLogTest\t0.017502124044180046\n",
      "org.apache.zookeeper.server.persistence.FileTxnSnapLogTest\t-0.088618592528236\n",
      "org.apache.zookeeper.server.persistence.TxnLogToolkitCliParserTest\t-0.00968188105117585\n",
      "org.apache.zookeeper.server.persistence.TxnLogToolkitTest\t-0.00036107600649995953\n",
      "org.apache.zookeeper.server.quorum.CnxManagerTest\t0.005433404948973155\n",
      "org.apache.zookeeper.server.quorum.EphemeralNodeDeletionTest\t-0.002269225505388163\n",
      "org.apache.zookeeper.server.quorum.FLEBackwardElectionRoundTest\t0.00017232399975510717\n",
      "org.apache.zookeeper.server.quorum.FLECompatibilityTest\t0.02175489485134139\n",
      "org.apache.zookeeper.server.quorum.FLEDontCareTest\t-0.03144786829886041\n",
      "org.apache.zookeeper.server.quorum.FLELostMessageTest\t-0.006487655433411849\n",
      "org.apache.zookeeper.server.quorum.LeaderBeanTest\t-0.032384690873405744\n",
      "org.apache.zookeeper.server.quorum.LeaderWithObserverTest\t-0.02903118779031258\n",
      "org.apache.zookeeper.server.quorum.LearnerTest\t0.015539305301645248\n",
      "org.apache.zookeeper.server.quorum.ProposalStatsTest\t-0.025440313111545935\n",
      "org.apache.zookeeper.server.quorum.QuorumCnxManagerTest\t-0.001287419437169282\n",
      "org.apache.zookeeper.server.quorum.QuorumPeerMainTest\t-0.009642241538823228\n",
      "org.apache.zookeeper.server.quorum.WatchLeakTest\t-0.0026163157231117095\n",
      "org.apache.zookeeper.server.quorum.Zab1_0Test\t0.004606907813534684\n",
      "org.apache.zookeeper.server.quorum.auth.MiniKdcTest\t-0.11171338681970512\n",
      "org.apache.zookeeper.server.quorum.auth.QuorumAuthUpgradeTest\t-0.016508690443664504\n",
      "org.apache.zookeeper.server.quorum.auth.QuorumDigestAuthTest\t-0.019253576890004138\n",
      "org.apache.zookeeper.server.quorum.auth.QuorumKerberosAuthTest\t-0.027438841349498814\n",
      "org.apache.zookeeper.server.quorum.auth.QuorumKerberosHostBasedAuthTest\t-0.012282374344553202\n",
      "org.apache.zookeeper.server.util.SerializeUtilsTest\t-0.0409907300115878\n",
      "org.apache.zookeeper.test.ACLCountTest\t-0.015160022459292136\n",
      "org.apache.zookeeper.test.ACLRootTest\t0.05725699067909468\n",
      "org.apache.zookeeper.test.ACLTest\t-0.018510356985456226\n",
      "org.apache.zookeeper.test.AsyncHammerTest\t0.0285556118034412\n",
      "org.apache.zookeeper.test.AsyncOpsTest\t-0.021846858847978073\n",
      "org.apache.zookeeper.test.AsyncTest\t0.005469836718097686\n",
      "org.apache.zookeeper.test.AtomicFileOutputStreamTest\t-0.036127836961555984\n",
      "org.apache.zookeeper.test.AuthTest\t0.004800606392386404\n",
      "org.apache.zookeeper.test.BufferSizeTest\t0.009379137985508962\n",
      "org.apache.zookeeper.test.ChrootAsyncTest\t-0.012448193333722376\n",
      "org.apache.zookeeper.test.ChrootClientTest\t-0.006977477114315214\n",
      "org.apache.zookeeper.test.ChrootTest\t0.018545707441464866\n",
      "org.apache.zookeeper.test.ClientHammerTest\t-8.235954962220185e-05\n",
      "org.apache.zookeeper.test.ClientPortBindTest\t0.027205656317245808\n",
      "org.apache.zookeeper.test.ClientTest\t-0.0012029974766625813\n",
      "org.apache.zookeeper.test.ConnectStringParserTest\t0.006417112299465153\n",
      "org.apache.zookeeper.test.CreateModeTest\t-0.02360717658168074\n",
      "org.apache.zookeeper.test.DisconnectedWatcherTest\t-0.0140495058408242\n",
      "org.apache.zookeeper.test.EventTypeTest\t0.00747198007471992\n",
      "org.apache.zookeeper.test.FLENewEpochTest\t-0.010814558058925144\n",
      "org.apache.zookeeper.test.FLEPredicateTest\t-0.00926705981465908\n",
      "org.apache.zookeeper.test.FLERestartTest\t-0.03628496473714693\n",
      "org.apache.zookeeper.test.FLETest\t0.3613753152276624\n",
      "org.apache.zookeeper.test.FLEZeroWeightTest\t0.014345696291112894\n",
      "org.apache.zookeeper.test.FollowerResyncConcurrencyTest\t0.011415304665128266\n",
      "org.apache.zookeeper.test.FollowerTest\t-0.06820178074465844\n",
      "org.apache.zookeeper.test.FourLetterWordsQuorumTest\t-0.018484355363645417\n",
      "org.apache.zookeeper.test.FourLetterWordsTest\t0.032758726458499476\n",
      "org.apache.zookeeper.test.FourLetterWordsWhiteListTest\t0.04391388725910541\n",
      "org.apache.zookeeper.test.GetChildren2Test\t0.007964043526257679\n",
      "org.apache.zookeeper.test.HierarchicalQuorumTest\t-0.00046310493081534385\n",
      "org.apache.zookeeper.test.InvalidSnapshotTest\t0.007790495595373854\n",
      "org.apache.zookeeper.test.KeeperStateTest\t0.0\n",
      "org.apache.zookeeper.test.LENonTerminateTest\t0.00020620469940479513\n",
      "org.apache.zookeeper.test.LETest\t0.0057680453884874\n",
      "org.apache.zookeeper.test.LoadFromLogNoServerTest\t-0.026759167492567074\n",
      "org.apache.zookeeper.test.LoadFromLogTest\t-0.00731550991240518\n",
      "org.apache.zookeeper.test.MaxCnxnsTest\t-0.009450945094509965\n",
      "org.apache.zookeeper.test.MultiTransactionTest\t0.013728918140682703\n",
      "org.apache.zookeeper.test.NioNettySuiteHammerTest\t0.035113400649071376\n",
      "org.apache.zookeeper.test.NioNettySuiteTest\t-0.003458478006735694\n",
      "org.apache.zookeeper.test.NonRecoverableErrorTest\t-0.02161563485965543\n",
      "org.apache.zookeeper.test.NullDataTest\t-0.01246453182002466\n",
      "org.apache.zookeeper.test.OOMTest\t-0.009641873278236984\n",
      "org.apache.zookeeper.test.OSMXBeanTest\t-0.07585335018963318\n",
      "org.apache.zookeeper.test.ObserverHierarchicalQuorumTest\t-7.245059153734469e-05\n",
      "org.apache.zookeeper.test.ObserverLETest\t0.0024234337098023666\n",
      "org.apache.zookeeper.test.ObserverQuorumHammerTest\t-0.0005128973212648945\n",
      "org.apache.zookeeper.test.ObserverTest\t0.03064562284003663\n",
      "org.apache.zookeeper.test.QuorumHammerTest\t-0.0018762578097740634\n",
      "org.apache.zookeeper.test.QuorumQuotaTest\t0.010143068541288576\n",
      "org.apache.zookeeper.test.QuorumTest\t0.0011747151987574797\n",
      "org.apache.zookeeper.test.QuorumZxidSyncTest\t-0.010497231259152475\n",
      "org.apache.zookeeper.test.ReadOnlyModeTest\t-0.004156624565188909\n",
      "org.apache.zookeeper.test.RecoveryTest\t-0.025334922102074647\n",
      "org.apache.zookeeper.test.RepeatStartupTest\t-0.0011524725390700315\n",
      "org.apache.zookeeper.test.RestoreCommittedLogTest\t0.015801159136126296\n",
      "org.apache.zookeeper.test.SaslAuthDesignatedClientTest\t0.0033019749548309756\n",
      "org.apache.zookeeper.test.SaslAuthDesignatedServerTest\t-0.016651075771749173\n",
      "org.apache.zookeeper.test.SaslAuthFailDesignatedClientTest\t-0.056845087096228514\n",
      "org.apache.zookeeper.test.SaslAuthFailNotifyTest\t0.01283980339051046\n",
      "org.apache.zookeeper.test.SaslAuthFailTest\t0.010185590201837126\n",
      "org.apache.zookeeper.test.SaslAuthMissingClientConfigTest\t0.04348259698813184\n",
      "org.apache.zookeeper.test.SaslClientTest\t-0.014962593516209275\n",
      "org.apache.zookeeper.test.SessionInvalidationTest\t-0.03484549638395763\n",
      "org.apache.zookeeper.test.SessionTest\t0.006192363421751258\n",
      "org.apache.zookeeper.test.SessionTimeoutTest\t0.02732274216480237\n",
      "org.apache.zookeeper.test.StandaloneTest\t-0.001150522631025201\n",
      "org.apache.zookeeper.test.StatTest\t0.04485131481936585\n",
      "org.apache.zookeeper.test.StaticHostProviderTest\t0.41647547740688334\n",
      "org.apache.zookeeper.test.SyncCallTest\t-0.007427905621905044\n",
      "org.apache.zookeeper.test.TruncateTest\t0.012893603577192663\n",
      "org.apache.zookeeper.test.UpgradeTest\t-0.007966951903216725\n",
      "org.apache.zookeeper.test.WatchedEventTest\t-0.00199401794616143\n",
      "org.apache.zookeeper.test.WatcherFuncTest\t0.0012506158335542515\n",
      "org.apache.zookeeper.test.WatcherTest\t-0.0010374744112853068\n",
      "org.apache.zookeeper.test.ZkDatabaseCorruptionTest\t0.09015026000465194\n",
      "org.apache.zookeeper.test.ZooKeeperQuotaTest\t-0.028427249789739734\n"
     ]
    }
   ],
   "source": [
    "diff = []\n",
    "for testcase in disable_guards_testcase_times:\n",
    "    now_data = disable_guards_testcase_times[testcase]\n",
    "#     print(now_data)\n",
    "    pre_data = orginal_testcase_times[testcase]\n",
    "#     print(pre_data)\n",
    "    now_avg_data = sum(now_data)/len(now_data)\n",
    "    pre_avg_data = sum(pre_data)/len(pre_data)\n",
    "    diff.append((now_avg_data - pre_avg_data)/pre_avg_data)\n",
    "    print(testcase, (now_avg_data - pre_avg_data)/pre_avg_data, sep=\"\\t\")"
   ]
  },
  {
   "cell_type": "code",
   "execution_count": 14,
   "metadata": {},
   "outputs": [
    {
     "data": {
      "text/plain": [
       "{'whiskers': [<matplotlib.lines.Line2D at 0x163e8087748>,\n",
       "  <matplotlib.lines.Line2D at 0x163e8087a20>],\n",
       " 'caps': [<matplotlib.lines.Line2D at 0x163e8087d30>,\n",
       "  <matplotlib.lines.Line2D at 0x163eb892048>],\n",
       " 'boxes': [<matplotlib.lines.Line2D at 0x163e80876a0>],\n",
       " 'medians': [<matplotlib.lines.Line2D at 0x163eb892320>],\n",
       " 'fliers': [<matplotlib.lines.Line2D at 0x163eb8925f8>],\n",
       " 'means': []}"
      ]
     },
     "execution_count": 14,
     "metadata": {},
     "output_type": "execute_result"
    },
    {
     "data": {
      "image/png": "[encoded data removed]",
      "text/plain": [
       "<Figure size 432x288 with 1 Axes>"
      ]
     },
     "metadata": {
      "needs_background": "light"
     },
     "output_type": "display_data"
    }
   ],
   "source": [
    "plt.boxplot(diff)"
   ]
  },
  {
   "cell_type": "code",
   "execution_count": null,
   "metadata": {},
   "outputs": [],
   "source": []
  }
 ],
 "metadata": {
  "kernelspec": {
   "display_name": "Python 3",
   "language": "python",
   "name": "python3"
  },
  "language_info": {
   "codemirror_mode": {
    "name": "ipython",
    "version": 3
   },
   "file_extension": ".py",
   "mimetype": "text/x-python",
   "name": "python",
   "nbconvert_exporter": "python",
   "pygments_lexer": "ipython3",
   "version": "3.7.3"
  }
 },
 "nbformat": 4,
 "nbformat_minor": 4
}
