{
 "cells": [
  {
   "cell_type": "code",
   "execution_count": 1,
   "metadata": {},
   "outputs": [],
   "source": [
    "import os\n",
    "import numpy as np\n",
    "import pandas as pd\n",
    "import matplotlib.pyplot as plt"
   ]
  },
  {
   "cell_type": "code",
   "execution_count": 2,
   "metadata": {},
   "outputs": [],
   "source": [
    "project = \"Hadoop\"\n",
    "output_dir = r\"E:\\IDEAWorkspace\\autologguards\\auto-guard\\src\\main\\py\\lrt\\\\\" + project + r\"Data\\folds5\"\n",
    "profile_data_file = project+\"NewProfileStatSummary.xlsx\"\n",
    "metrics_data_file = project+\"_Metrics_Data.txt\"\n",
    "instructions_data_file = project+\"_Count_Of_Instructions.txt\"\n",
    "methodcalls_data_file = project+\"_Count_Of_Method_Calls.txt\"\n",
    "methodfreq_data_file = project+\"_Method_Frequency.txt\""
   ]
  },
  {
   "cell_type": "code",
   "execution_count": 3,
   "metadata": {},
   "outputs": [],
   "source": [
    "profile_data = pd.read_excel(profile_data_file, sheet_name=\"summary\", index_col=0)\n",
    "metrics_data = pd.read_csv(metrics_data_file, sep=\"\\t\", index_col=0)\n",
    "instructions_data = pd.read_csv(instructions_data_file, sep=\"\\t\", index_col=0)\n",
    "methodcalls_data = pd.read_csv(methodcalls_data_file, sep=\"\\t\", index_col=0)\n",
    "methodfreq_data = pd.read_csv(methodfreq_data_file, sep=\"\\t\", index_col=0)"
   ]
  },
  {
   "cell_type": "code",
   "execution_count": 4,
   "metadata": {},
   "outputs": [],
   "source": [
    "# methodcalls_data"
   ]
  },
  {
   "cell_type": "code",
   "execution_count": 5,
   "metadata": {},
   "outputs": [],
   "source": [
    "# join data by LoggingID in profile_data\n",
    "joined_data = pd.concat([profile_data, metrics_data, instructions_data, methodcalls_data, methodfreq_data], axis=1, join=\"inner\")"
   ]
  },
  {
   "cell_type": "code",
   "execution_count": 6,
   "metadata": {},
   "outputs": [
    {
     "data": {
      "text/plain": [
       "Index(['Time(ns)Count', 'Time(ns)Sum', 'Time(ns)Max', 'PotentialMethodCalls',\n",
       "       'PotentialInstructions', 'Instructions', 'MethodCalls',\n",
       "       'MethodFrequency'],\n",
       "      dtype='object')"
      ]
     },
     "execution_count": 6,
     "metadata": {},
     "output_type": "execute_result"
    }
   ],
   "source": [
    "joined_data.columns"
   ]
  },
  {
   "cell_type": "code",
   "execution_count": 7,
   "metadata": {},
   "outputs": [],
   "source": [
    "# sort by Time(ns)Sum (mean of multiple runs of Time(ns)Sum)\n",
    "sorted_data = joined_data.sort_values(by=['Time(ns)Sum'])"
   ]
  },
  {
   "cell_type": "code",
   "execution_count": 8,
   "metadata": {},
   "outputs": [],
   "source": [
    "# Set ReverseRank, will be used as the relevance score in LearnToRank\n",
    "sorted_data[\"ReverseRank\"] = np.arange(1, len(sorted_data)+1)"
   ]
  },
  {
   "cell_type": "code",
   "execution_count": 9,
   "metadata": {},
   "outputs": [],
   "source": [
    "# Shuffle data\n",
    "shuffled_data = sorted_data.sample(frac=1)"
   ]
  },
  {
   "cell_type": "code",
   "execution_count": 10,
   "metadata": {},
   "outputs": [
    {
     "data": {
      "text/html": [
       "<div>\n",
       "<style scoped>\n",
       "    .dataframe tbody tr th:only-of-type {\n",
       "        vertical-align: middle;\n",
       "    }\n",
       "\n",
       "    .dataframe tbody tr th {\n",
       "        vertical-align: top;\n",
       "    }\n",
       "\n",
       "    .dataframe thead th {\n",
       "        text-align: right;\n",
       "    }\n",
       "</style>\n",
       "<table border=\"1\" class=\"dataframe\">\n",
       "  <thead>\n",
       "    <tr style=\"text-align: right;\">\n",
       "      <th></th>\n",
       "      <th>Time(ns)Count</th>\n",
       "      <th>Time(ns)Sum</th>\n",
       "      <th>Time(ns)Max</th>\n",
       "      <th>PotentialMethodCalls</th>\n",
       "      <th>PotentialInstructions</th>\n",
       "      <th>Instructions</th>\n",
       "      <th>MethodCalls</th>\n",
       "      <th>MethodFrequency</th>\n",
       "      <th>ReverseRank</th>\n",
       "    </tr>\n",
       "  </thead>\n",
       "  <tbody>\n",
       "    <tr>\n",
       "      <th>dfc06fa1-f6bd</th>\n",
       "      <td>2081.3</td>\n",
       "      <td>1.07739e+08</td>\n",
       "      <td>5378165</td>\n",
       "      <td>756</td>\n",
       "      <td>6598</td>\n",
       "      <td>17</td>\n",
       "      <td>11</td>\n",
       "      <td>1879</td>\n",
       "      <td>155</td>\n",
       "    </tr>\n",
       "    <tr>\n",
       "      <th>b291db57-b14b</th>\n",
       "      <td>1</td>\n",
       "      <td>875974</td>\n",
       "      <td>1141683</td>\n",
       "      <td>690</td>\n",
       "      <td>5810</td>\n",
       "      <td>17</td>\n",
       "      <td>10</td>\n",
       "      <td>55</td>\n",
       "      <td>63</td>\n",
       "    </tr>\n",
       "    <tr>\n",
       "      <th>c3b46859-b6a5</th>\n",
       "      <td>1</td>\n",
       "      <td>109962</td>\n",
       "      <td>135925</td>\n",
       "      <td>30152</td>\n",
       "      <td>405188</td>\n",
       "      <td>19</td>\n",
       "      <td>13</td>\n",
       "      <td>21183</td>\n",
       "      <td>28</td>\n",
       "    </tr>\n",
       "    <tr>\n",
       "      <th>5085b5b4-92a7</th>\n",
       "      <td>91902.2</td>\n",
       "      <td>5.91128e+07</td>\n",
       "      <td>8926196</td>\n",
       "      <td>657</td>\n",
       "      <td>5423</td>\n",
       "      <td>20</td>\n",
       "      <td>15</td>\n",
       "      <td>26833</td>\n",
       "      <td>144</td>\n",
       "    </tr>\n",
       "    <tr>\n",
       "      <th>102289d4-ca7e</th>\n",
       "      <td>3502</td>\n",
       "      <td>1.05276e+09</td>\n",
       "      <td>29560797</td>\n",
       "      <td>292</td>\n",
       "      <td>2829</td>\n",
       "      <td>24</td>\n",
       "      <td>18</td>\n",
       "      <td>4021</td>\n",
       "      <td>186</td>\n",
       "    </tr>\n",
       "    <tr>\n",
       "      <th>...</th>\n",
       "      <td>...</td>\n",
       "      <td>...</td>\n",
       "      <td>...</td>\n",
       "      <td>...</td>\n",
       "      <td>...</td>\n",
       "      <td>...</td>\n",
       "      <td>...</td>\n",
       "      <td>...</td>\n",
       "      <td>...</td>\n",
       "    </tr>\n",
       "    <tr>\n",
       "      <th>9cb6fb0b-24d9</th>\n",
       "      <td>858.7</td>\n",
       "      <td>7.00798e+06</td>\n",
       "      <td>1448895</td>\n",
       "      <td>698</td>\n",
       "      <td>6004</td>\n",
       "      <td>17</td>\n",
       "      <td>11</td>\n",
       "      <td>928</td>\n",
       "      <td>105</td>\n",
       "    </tr>\n",
       "    <tr>\n",
       "      <th>24c9dba5-6722</th>\n",
       "      <td>84967.2</td>\n",
       "      <td>7.63651e+07</td>\n",
       "      <td>2600391</td>\n",
       "      <td>314</td>\n",
       "      <td>3082</td>\n",
       "      <td>22</td>\n",
       "      <td>12</td>\n",
       "      <td>701566</td>\n",
       "      <td>150</td>\n",
       "    </tr>\n",
       "    <tr>\n",
       "      <th>f7ccd965-9015</th>\n",
       "      <td>86</td>\n",
       "      <td>1.06828e+06</td>\n",
       "      <td>279802</td>\n",
       "      <td>328</td>\n",
       "      <td>3386</td>\n",
       "      <td>19</td>\n",
       "      <td>13</td>\n",
       "      <td>733668</td>\n",
       "      <td>70</td>\n",
       "    </tr>\n",
       "    <tr>\n",
       "      <th>2058911d-6abd</th>\n",
       "      <td>6</td>\n",
       "      <td>29322.2</td>\n",
       "      <td>23417</td>\n",
       "      <td>343</td>\n",
       "      <td>3373</td>\n",
       "      <td>20</td>\n",
       "      <td>15</td>\n",
       "      <td>6</td>\n",
       "      <td>12</td>\n",
       "    </tr>\n",
       "    <tr>\n",
       "      <th>920fd9eb-3c63</th>\n",
       "      <td>2136.4</td>\n",
       "      <td>30217968</td>\n",
       "      <td>1258590</td>\n",
       "      <td>660</td>\n",
       "      <td>5515</td>\n",
       "      <td>18</td>\n",
       "      <td>11</td>\n",
       "      <td>2858</td>\n",
       "      <td>132</td>\n",
       "    </tr>\n",
       "  </tbody>\n",
       "</table>\n",
       "<p>218 rows × 9 columns</p>\n",
       "</div>"
      ],
      "text/plain": [
       "              Time(ns)Count  Time(ns)Sum Time(ns)Max  PotentialMethodCalls  \\\n",
       "dfc06fa1-f6bd        2081.3  1.07739e+08     5378165                   756   \n",
       "b291db57-b14b             1       875974     1141683                   690   \n",
       "c3b46859-b6a5             1       109962      135925                 30152   \n",
       "5085b5b4-92a7       91902.2  5.91128e+07     8926196                   657   \n",
       "102289d4-ca7e          3502  1.05276e+09    29560797                   292   \n",
       "...                     ...          ...         ...                   ...   \n",
       "9cb6fb0b-24d9         858.7  7.00798e+06     1448895                   698   \n",
       "24c9dba5-6722       84967.2  7.63651e+07     2600391                   314   \n",
       "f7ccd965-9015            86  1.06828e+06      279802                   328   \n",
       "2058911d-6abd             6      29322.2       23417                   343   \n",
       "920fd9eb-3c63        2136.4     30217968     1258590                   660   \n",
       "\n",
       "               PotentialInstructions  Instructions  MethodCalls  \\\n",
       "dfc06fa1-f6bd                   6598            17           11   \n",
       "b291db57-b14b                   5810            17           10   \n",
       "c3b46859-b6a5                 405188            19           13   \n",
       "5085b5b4-92a7                   5423            20           15   \n",
       "102289d4-ca7e                   2829            24           18   \n",
       "...                              ...           ...          ...   \n",
       "9cb6fb0b-24d9                   6004            17           11   \n",
       "24c9dba5-6722                   3082            22           12   \n",
       "f7ccd965-9015                   3386            19           13   \n",
       "2058911d-6abd                   3373            20           15   \n",
       "920fd9eb-3c63                   5515            18           11   \n",
       "\n",
       "               MethodFrequency  ReverseRank  \n",
       "dfc06fa1-f6bd             1879          155  \n",
       "b291db57-b14b               55           63  \n",
       "c3b46859-b6a5            21183           28  \n",
       "5085b5b4-92a7            26833          144  \n",
       "102289d4-ca7e             4021          186  \n",
       "...                        ...          ...  \n",
       "9cb6fb0b-24d9              928          105  \n",
       "24c9dba5-6722           701566          150  \n",
       "f7ccd965-9015           733668           70  \n",
       "2058911d-6abd                6           12  \n",
       "920fd9eb-3c63             2858          132  \n",
       "\n",
       "[218 rows x 9 columns]"
      ]
     },
     "execution_count": 10,
     "metadata": {},
     "output_type": "execute_result"
    }
   ],
   "source": [
    "shuffled_data"
   ]
  },
  {
   "cell_type": "code",
   "execution_count": 11,
   "metadata": {},
   "outputs": [],
   "source": [
    "shuffled_data.to_csv(project+\"FullData.csv\")"
   ]
  },
  {
   "cell_type": "code",
   "execution_count": 12,
   "metadata": {},
   "outputs": [],
   "source": [
    "splited_data = np.array_split(shuffled_data, 5)"
   ]
  },
  {
   "cell_type": "code",
   "execution_count": 13,
   "metadata": {},
   "outputs": [],
   "source": [
    "for i, split in enumerate(splited_data):\n",
    "    with open(os.path.join(output_dir, \"fold\"+str(i)), \"w\") as fold_file:\n",
    "        for index, row in split.iterrows():\n",
    "            fold_file.write(\"{rel} pid:1 1:{PotentialMethodCalls} 2:{PotentialInstructions} 3:{Instructions} 4:{MethodCalls} 5:{Count} 6:{MethodFreq} # {LoggingID}\\n\".format(\n",
    "                rel=row[\"ReverseRank\"], PotentialMethodCalls=row[\"PotentialMethodCalls\"], PotentialInstructions=row[\"PotentialInstructions\"], \n",
    "                Instructions=row[\"Instructions\"], MethodCalls=row[\"MethodCalls\"], Count=row[\"Time(ns)Count\"], MethodFreq=row[\"MethodFrequency\"], LoggingID=index\n",
    "            ))"
   ]
  },
  {
   "cell_type": "code",
   "execution_count": null,
   "metadata": {},
   "outputs": [],
   "source": []
  }
 ],
 "metadata": {
  "kernelspec": {
   "display_name": "Python 3",
   "language": "python",
   "name": "python3"
  },
  "language_info": {
   "codemirror_mode": {
    "name": "ipython",
    "version": 3
   },
   "file_extension": ".py",
   "mimetype": "text/x-python",
   "name": "python",
   "nbconvert_exporter": "python",
   "pygments_lexer": "ipython3",
   "version": "3.7.3"
  }
 },
 "nbformat": 4,
 "nbformat_minor": 4
}
