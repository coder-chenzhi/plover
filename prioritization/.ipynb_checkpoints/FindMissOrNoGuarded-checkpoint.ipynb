{
 "cells": [
  {
   "cell_type": "code",
   "execution_count": 1,
   "metadata": {},
   "outputs": [],
   "source": [
    "import re\n",
    "import json"
   ]
  },
  {
   "cell_type": "code",
   "execution_count": 87,
   "metadata": {},
   "outputs": [],
   "source": [
    "project_name = \"Cassandra\"\n",
    "data_dir = r\"E:\\IDEAWorkspace\\autologguards\\docs\\result\\\\\" + project_name + \"_Data_Control_SideEffect_Raw_Result.txt\""
   ]
  },
  {
   "cell_type": "code",
   "execution_count": 88,
   "metadata": {},
   "outputs": [
    {
     "data": {
      "text/plain": [
       "'E:\\\\IDEAWorkspace\\\\autologguards\\\\docs\\\\result\\\\\\\\Cassandra_Data_NoControl_NoSideEffect_Raw_Result.txt'"
      ]
     },
     "execution_count": 88,
     "metadata": {},
     "output_type": "execute_result"
    }
   ],
   "source": [
    "data_dir"
   ]
  },
  {
   "cell_type": "code",
   "execution_count": 79,
   "metadata": {},
   "outputs": [
    {
     "data": {
      "text/plain": [
       "['acb185af-8830', '7754c682-e48e']"
      ]
     },
     "execution_count": 79,
     "metadata": {},
     "output_type": "execute_result"
    }
   ],
   "source": [
    "re.findall(\"\\w{8}-\\w{4}\", \"[UNKNOWN_ID, acb185af-8830, 7754c682-e48e]\")"
   ]
  },
  {
   "cell_type": "code",
   "execution_count": 80,
   "metadata": {},
   "outputs": [
    {
     "data": {
      "text/plain": [
       "['AT LINE 134']"
      ]
     },
     "execution_count": 80,
     "metadata": {},
     "output_type": "execute_result"
    }
   ],
   "source": [
    "re.findall(\"AT LINE [0-9]+\", \"specialinvoke $stack93.<java.lang.StringBuilder: void <init>()>() AT LINE 134 with ID [26a1ed2f-f51d]\")"
   ]
  },
  {
   "cell_type": "code",
   "execution_count": 81,
   "metadata": {},
   "outputs": [
    {
     "data": {
      "text/plain": [
       "'-1, 1, 2'"
      ]
     },
     "execution_count": 81,
     "metadata": {},
     "output_type": "execute_result"
    }
   ],
   "source": [
    "\", \".join(sorted([\"1\", \"2\", \"-1\"]))"
   ]
  },
  {
   "cell_type": "code",
   "execution_count": 89,
   "metadata": {},
   "outputs": [],
   "source": [
    "data = {}\n",
    "with open(data_dir, \"r\") as data_file:\n",
    "    for line in data_file.readlines():\n",
    "        if \"-> \" in line:\n",
    "            remove_date = line[line.find(\"-> \")+3:]\n",
    "            logging_ids = re.findall(\"\\w{8}-\\w{4}\", remove_date)\n",
    "            unit_content = remove_date[:len(remove_date)-17]\n",
    "            for logging_id in logging_ids:\n",
    "                if logging_id in data:\n",
    "                    data[logging_id].append(unit_content)\n",
    "                else:\n",
    "                    data[logging_id] = [unit_content]"
   ]
  },
  {
   "cell_type": "code",
   "execution_count": 90,
   "metadata": {},
   "outputs": [
    {
     "data": {
      "text/plain": [
       "555"
      ]
     },
     "execution_count": 90,
     "metadata": {},
     "output_type": "execute_result"
    }
   ],
   "source": [
    "len(data)"
   ]
  },
  {
   "cell_type": "code",
   "execution_count": 91,
   "metadata": {},
   "outputs": [],
   "source": [
    "with open(project_name+\"LoggingIDs.txt\", \"w\") as id_file:\n",
    "    for logging_id in data:\n",
    "        id_file.write(logging_id + \"\\t\" + str(len(data[logging_id])) + \"\\n\")"
   ]
  },
  {
   "cell_type": "code",
   "execution_count": 82,
   "metadata": {},
   "outputs": [
    {
     "name": "stdout",
     "output_type": "stream",
     "text": [
      "2021-03-26 01:03:30 [INFO] - \t -> tmp$1636559902 = (org.apache.calcite.rel.RelNode) join AT LINE UNKNOWN with ID [2080693d-4408]\n",
      "\n",
      "2021-03-26 01:03:31 [INFO] - \t -> tmp$285589433 = (org.apache.hadoop.conf.Configuration) conf AT LINE UNKNOWN with ID [cb405d4d-858e]\n",
      "\n",
      "2021-03-26 01:03:45 [INFO] - \t -> tmp$1890575679 = (org.apache.hadoop.security.token.SecretManager) $stack15 AT LINE UNKNOWN with ID [c1c24b18-d3c5]\n",
      "\n",
      "2021-03-26 01:03:46 [INFO] - \t -> tmp$625294845 = (org.apache.hadoop.conf.Configuration) conf AT LINE UNKNOWN with ID [e9f8506b-a395]\n",
      "\n",
      "2021-03-26 01:03:46 [INFO] - \t -> tmp$1757638730 = (org.apache.hadoop.conf.Configuration) conf AT LINE UNKNOWN with ID [57115342-4d68]\n",
      "\n",
      "2021-03-26 01:03:47 [INFO] - \t -> tmp$1172544662 = (org.apache.calcite.rel.RelNode) rel AT LINE UNKNOWN with ID [5cea41de-53f0]\n",
      "\n"
     ]
    }
   ],
   "source": [
    "data = {}\n",
    "with open(data_dir, \"r\") as data_file:\n",
    "    for line in data_file.readlines():\n",
    "        if \"-> \" in line:\n",
    "            remove_date = line[line.find(\"-> \")+3:]\n",
    "            logging_ids = re.findall(\"\\w{8}-\\w{4}\", remove_date)\n",
    "            unit_content = remove_date[:len(remove_date)-17]\n",
    "            for logging_id in logging_ids:\n",
    "                matched = re.findall(\"AT LINE [0-9]+\", unit_content)\n",
    "                if len(matched) != 0:\n",
    "                    line_num = re.findall(\"AT LINE [0-9]+\", unit_content)[0].replace(\"AT LINE \", \"\")\n",
    "                    if logging_id in data:\n",
    "                        data[logging_id].append(line_num)\n",
    "                    else:\n",
    "                        data[logging_id] = [line_num]\n",
    "                else:\n",
    "                    print(line)"
   ]
  },
  {
   "cell_type": "code",
   "execution_count": 83,
   "metadata": {},
   "outputs": [],
   "source": [
    "with open(project_name+\"LoggingID2LineNum.txt\", \"w\") as id_file:\n",
    "    for logging_id in data:\n",
    "        id_file.write(logging_id + \"\\t\" + \", \".join(sorted(set(data[logging_id]))) + \"\\n\")"
   ]
  },
  {
   "cell_type": "code",
   "execution_count": 37,
   "metadata": {},
   "outputs": [],
   "source": [
    "miss_guarded = {}\n",
    "for logging_id in data:\n",
    "    units = data[logging_id]\n",
    "    for i, unit in enumerate(units):\n",
    "        if \"isDebugEnabled\" in unit or \"isTraceEnabled\" in unit:\n",
    "            miss_guarded[logging_id] = units[:i]\n",
    "            break"
   ]
  },
  {
   "cell_type": "code",
   "execution_count": 38,
   "metadata": {},
   "outputs": [
    {
     "data": {
      "text/plain": [
       "755"
      ]
     },
     "execution_count": 38,
     "metadata": {},
     "output_type": "execute_result"
    }
   ],
   "source": [
    "len(miss_guarded)"
   ]
  },
  {
   "cell_type": "code",
   "execution_count": 39,
   "metadata": {},
   "outputs": [],
   "source": [
    "sorted_miss_guarded = {k: v for k, v in sorted(miss_guarded.items(), key=lambda item: -len(item[1]))}"
   ]
  },
  {
   "cell_type": "code",
   "execution_count": 40,
   "metadata": {},
   "outputs": [],
   "source": [
    "with open(project_name+'MissGuarded.json', 'w') as fp:\n",
    "    json.dump(sorted_miss_guarded, fp)"
   ]
  },
  {
   "cell_type": "code",
   "execution_count": 41,
   "metadata": {},
   "outputs": [],
   "source": [
    "no_guarded = {}\n",
    "for logging_id in data:\n",
    "    units = data[logging_id]\n",
    "    has_guard = False\n",
    "    for i, unit in enumerate(units):\n",
    "        if \"isDebugEnabled\" in unit or \"isTraceEnabled\" in unit:\n",
    "            has_guard = True\n",
    "            break\n",
    "    if not has_guard:\n",
    "        no_guarded[logging_id] = units"
   ]
  },
  {
   "cell_type": "code",
   "execution_count": 42,
   "metadata": {},
   "outputs": [
    {
     "data": {
      "text/plain": [
       "1510"
      ]
     },
     "execution_count": 42,
     "metadata": {},
     "output_type": "execute_result"
    }
   ],
   "source": [
    "len(no_guarded)"
   ]
  },
  {
   "cell_type": "code",
   "execution_count": 43,
   "metadata": {},
   "outputs": [],
   "source": [
    "sorted_no_guarded = {k: v for k, v in sorted(no_guarded.items(), key=lambda item: -len(item[1]))}"
   ]
  },
  {
   "cell_type": "code",
   "execution_count": 44,
   "metadata": {},
   "outputs": [],
   "source": [
    "with open(project_name+'NoGuarded.json', 'w') as fp:\n",
    "    json.dump(sorted_no_guarded, fp)"
   ]
  },
  {
   "cell_type": "code",
   "execution_count": null,
   "metadata": {},
   "outputs": [],
   "source": []
  }
 ],
 "metadata": {
  "kernelspec": {
   "display_name": "Python 3",
   "language": "python",
   "name": "python3"
  },
  "language_info": {
   "codemirror_mode": {
    "name": "ipython",
    "version": 3
   },
   "file_extension": ".py",
   "mimetype": "text/x-python",
   "name": "python",
   "nbconvert_exporter": "python",
   "pygments_lexer": "ipython3",
   "version": "3.7.3"
  }
 },
 "nbformat": 4,
 "nbformat_minor": 4
}
