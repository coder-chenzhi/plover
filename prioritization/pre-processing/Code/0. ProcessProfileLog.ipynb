{
 "cells": [
  {
   "cell_type": "code",
   "execution_count": null,
   "metadata": {},
   "outputs": [],
   "source": [
    "import os\n",
    "\n",
    "\n",
    "data_dir = r\"H:\\Data\\PLOVER_TEST_LOG\\cassandra_test_logs_8\\logs\"\n",
    "output_file = r\"H:\\Data\\PLOVER_TEST_LOG\\cassandra_test_log_summary8.log\"\n",
    "\n",
    "output = open(output_file, \"w\")\n",
    "for root, dirs, files in os.walk(data_dir, topdown=False):\n",
    "    for name in files:\n",
    "        real_path = os.path.join(root, name).replace(\"\\\\\", \"/\")\n",
    "        print(real_path)\n",
    "        with open(real_path, \"r\", encoding=\"utf-8\", errors=\"ignore\") as log_file:\n",
    "            for line in log_file.readlines():\n",
    "                if \"[LoggingOverhead]\" in line:\n",
    "                    time = line[:line.find(\"[\")-1]\n",
    "                    logging_id = line[line.find(\"LoggingID:\"): line.find(\", Time consumption\")].replace(\"LoggingID: \", \"\")\n",
    "                    time_cost = line[line.find(\"Time consumption\"):line.find(\", Space consumption: \")]\\\n",
    "                        .replace(\"Time consumption: \", \"\").replace(\" ns\", \"\")\n",
    "                    space_cost = line[line.find(\"Space\"):].replace(\"Space consumption: \", \"\")\n",
    "                    space_cost = space_cost[:space_cost.find(\" bytes\")]\n",
    "#                     output.write(\"\\t\".join([name, time, logging_id, time_cost, space_cost]))\n",
    "                    output.write(\"\\t\".join([logging_id, time_cost, space_cost])+\"\\n\")\n",
    "output.close()"
   ]
  },
  {
   "cell_type": "code",
   "execution_count": null,
   "metadata": {},
   "outputs": [],
   "source": [
    "import os\n",
    "\n",
    "data_dir = r\"G:\\Data\\PLOVER_TEST_LOG\\hadoop_test_logs_1\\hadoop_test_logs\"\n",
    "for root, dirs, files in os.walk(data_dir, topdown=False):\n",
    "    for name in files:\n",
    "        real_path = os.path.join(root, name).replace(\"\\\\\", \"/\")\n",
    "        with open(real_path, \"r\", encoding=\"utf-8\", errors=\"ignore\") as log_file:\n",
    "            for line in log_file.readlines():\n",
    "                if \"[LoggingOverhead]\" in line:\n",
    "                    print(real_path)\n",
    "                    break"
   ]
  },
  {
   "cell_type": "code",
   "execution_count": null,
   "metadata": {},
   "outputs": [],
   "source": [
    "import re\n",
    "with open(r\"H:\\Data\\PLOVER_TEST_LOG\\cassandra_test_log_summary0.log\", \"r\") as log_file:\n",
    "    for line in log_file.readlines():\n",
    "        logging_ids = re.findall(\"\\w{8}-\\w{4}\", line)\n",
    "        if len(logging_ids) == 0:\n",
    "            print(line)"
   ]
  },
  {
   "cell_type": "code",
   "execution_count": null,
   "metadata": {},
   "outputs": [],
   "source": []
  }
 ],
 "metadata": {
  "kernelspec": {
   "display_name": "Python 3",
   "language": "python",
   "name": "python3"
  },
  "language_info": {
   "codemirror_mode": {
    "name": "ipython",
    "version": 3
   },
   "file_extension": ".py",
   "mimetype": "text/x-python",
   "name": "python",
   "nbconvert_exporter": "python",
   "pygments_lexer": "ipython3",
   "version": "3.7.3"
  }
 },
 "nbformat": 4,
 "nbformat_minor": 4
}
