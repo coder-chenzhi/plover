{
 "cells": [
  {
   "cell_type": "code",
   "execution_count": null,
   "metadata": {},
   "outputs": [],
   "source": [
    "import numpy as np\n",
    "import pandas as pd"
   ]
  },
  {
   "cell_type": "code",
   "execution_count": null,
   "metadata": {},
   "outputs": [],
   "source": [
    "project = \"Cassandra\"\n",
    "#data_file = project+\"ProfileStat.xlsx\"\n",
    "metrics_file = r\"E:\\IDEAWorkspace\\plover\\docs\\profiler\\\\\" + project.lower() + \"_metrics.log\"\n",
    "output_dir = project + '_Metrics_Data.txt'"
   ]
  },
  {
   "cell_type": "code",
   "execution_count": null,
   "metadata": {},
   "outputs": [],
   "source": [
    "#data = pd.read_excel(data_file, sheet_name='ProfileStat')"
   ]
  },
  {
   "cell_type": "code",
   "execution_count": null,
   "metadata": {},
   "outputs": [],
   "source": [
    "#data[\"LoggingID\"]"
   ]
  },
  {
   "cell_type": "code",
   "execution_count": null,
   "metadata": {},
   "outputs": [],
   "source": [
    "metrics = {}\n",
    "with open(metrics_file, \"r\") as metrics_data:\n",
    "    lines = metrics_data.readlines()\n",
    "    for line in lines:\n",
    "        line = line[line.find(\"LoggingID: \"):]\n",
    "        line = line.replace(\": Metrics{potentialMethodCall=\", \" \").replace(\", potentialInstruction=\", \" \").replace(\"LoggingID: \", \"\").replace(\"}\", \"\").strip()\n",
    "        entry = line.split(\" \")\n",
    "        metrics[entry[0]] = [entry[1], entry[2]]"
   ]
  },
  {
   "cell_type": "code",
   "execution_count": null,
   "metadata": {},
   "outputs": [],
   "source": [
    "with open(output_dir, \"w\") as output_file:\n",
    "    output_file.write(\"LoggingID\\tPotentialMethodCalls\\tPotentialInstructions\\n\")\n",
    "    for logging_id in metrics:\n",
    "        entry = metrics[logging_id]\n",
    "        output_file.write(logging_id + \"\\t\" + entry[0] + \"\\t\" + entry[1] + \"\\n\")"
   ]
  },
  {
   "cell_type": "code",
   "execution_count": null,
   "metadata": {},
   "outputs": [],
   "source": []
  }
 ],
 "metadata": {
  "kernelspec": {
   "display_name": "Python 3",
   "language": "python",
   "name": "python3"
  },
  "language_info": {
   "codemirror_mode": {
    "name": "ipython",
    "version": 3
   },
   "file_extension": ".py",
   "mimetype": "text/x-python",
   "name": "python",
   "nbconvert_exporter": "python",
   "pygments_lexer": "ipython3",
   "version": "3.7.3"
  }
 },
 "nbformat": 4,
 "nbformat_minor": 4
}
