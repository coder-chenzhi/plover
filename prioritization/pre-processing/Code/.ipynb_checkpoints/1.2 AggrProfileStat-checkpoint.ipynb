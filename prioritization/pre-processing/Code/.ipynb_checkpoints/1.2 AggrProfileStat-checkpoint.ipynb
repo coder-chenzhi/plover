{
 "cells": [
  {
   "cell_type": "code",
   "execution_count": null,
   "metadata": {},
   "outputs": [],
   "source": [
    "import os\n",
    "import numpy as np\n",
    "import pandas as pd\n",
    "import matplotlib.pyplot as plt"
   ]
  },
  {
   "cell_type": "code",
   "execution_count": null,
   "metadata": {},
   "outputs": [],
   "source": [
    "data_files = [\n",
    "    \"CassandraNewProfileStat1.csv\", \"CassandraNewProfileStat2.csv\", \"CassandraNewProfileStat3.csv\",\n",
    "    \"CassandraNewProfileStat4.csv\", \"CassandraNewProfileStat5.csv\", \"CassandraNewProfileStat6.csv\",\n",
    "    \"CassandraNewProfileStat7.csv\", \"CassandraNewProfileStat8.csv\"\n",
    "]"
   ]
  },
  {
   "cell_type": "code",
   "execution_count": null,
   "metadata": {},
   "outputs": [],
   "source": [
    "# Create a Pandas Excel writer using XlsxWriter as the engine.\n",
    "writer = pd.ExcelWriter('CassandraNewProfileStatSummary.xlsx', engine='xlsxwriter')"
   ]
  },
  {
   "cell_type": "code",
   "execution_count": null,
   "metadata": {},
   "outputs": [],
   "source": [
    "profiles = []\n",
    "for i, data_file in enumerate(data_files):\n",
    "    data = pd.read_csv(data_file, header=None, skiprows=[0,1,2], \n",
    "                       names=[\"LoggingID\", \"Time(ns)Median\", \"Time(ns)Mean\", \"Time(ns)Max\", \"Time(ns)Sum\", \"Time(ns)Count\", \n",
    "                              \"Space(bytes)Median\", \"Space(bytes)Mean\", \"Space(bytes)Max\", \"Space(bytes)Sum\", \"Space(bytes)Count\"])\n",
    "    # Convert the dataframe to an XlsxWriter Excel object.\n",
    "    data.to_excel(writer, sheet_name=str(i), index=False)\n",
    "    data = data.set_index([\"LoggingID\"])\n",
    "    profiles.append(data)\n",
    "summary = pd.concat(profiles)\n",
    "summary = summary.groupby([\"LoggingID\"])\n",
    "aggr_stat = summary.agg(\n",
    "    {\n",
    "        'Time(ns)Count': ['mean'],\n",
    "        'Time(ns)Sum': ['mean'],\n",
    "        'Time(ns)Max': ['max']\n",
    "    }\n",
    ")\n",
    "aggr_stat.to_excel(writer, sheet_name=\"summary\")"
   ]
  },
  {
   "cell_type": "code",
   "execution_count": null,
   "metadata": {},
   "outputs": [],
   "source": [
    "# Close the Pandas Excel writer and output the Excel file.\n",
    "writer.save()"
   ]
  },
  {
   "cell_type": "code",
   "execution_count": null,
   "metadata": {},
   "outputs": [],
   "source": []
  }
 ],
 "metadata": {
  "kernelspec": {
   "display_name": "Python 3",
   "language": "python",
   "name": "python3"
  },
  "language_info": {
   "codemirror_mode": {
    "name": "ipython",
    "version": 3
   },
   "file_extension": ".py",
   "mimetype": "text/x-python",
   "name": "python",
   "nbconvert_exporter": "python",
   "pygments_lexer": "ipython3",
   "version": "3.7.3"
  }
 },
 "nbformat": 4,
 "nbformat_minor": 4
}
