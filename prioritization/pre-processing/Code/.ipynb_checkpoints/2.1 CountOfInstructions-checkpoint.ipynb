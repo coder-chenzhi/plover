{
 "cells": [
  {
   "cell_type": "code",
   "execution_count": null,
   "metadata": {},
   "outputs": [],
   "source": [
    "import re\n",
    "import numpy as np\n",
    "import pandas as pd"
   ]
  },
  {
   "cell_type": "code",
   "execution_count": null,
   "metadata": {},
   "outputs": [],
   "source": [
    "project = \"Cassandra\"\n",
    "# id_dir = project+\"ProfileStat.xlsx\"\n",
    "data_dir = r\"E:\\IDEAWorkspace\\plover\\docs\\result\\\\\" + project + \"_Data_Control_SideEffect_Raw_Result.txt\"\n",
    "output_dir = project + '_Count_Of_Instructions.txt'"
   ]
  },
  {
   "cell_type": "code",
   "execution_count": null,
   "metadata": {},
   "outputs": [],
   "source": [
    "# df = pd.read_excel(id_dir, sheet_name='OverallCost')"
   ]
  },
  {
   "cell_type": "code",
   "execution_count": null,
   "metadata": {},
   "outputs": [],
   "source": [
    "# target_ids = df[\"LoggingID\"]"
   ]
  },
  {
   "cell_type": "code",
   "execution_count": null,
   "metadata": {},
   "outputs": [],
   "source": [
    "string = \"-> if $stack54 == 0 goto (branch) AT LINE 544 with ID\"\n",
    "re.findall(\"\\w{8}-\\w{4}\", string)"
   ]
  },
  {
   "cell_type": "code",
   "execution_count": null,
   "metadata": {},
   "outputs": [],
   "source": [
    "data = {}\n",
    "with open(data_dir, \"r\") as data_file:\n",
    "    for line in data_file.readlines():\n",
    "        ids = re.findall(\"\\w{8}-\\w{4}\", line)\n",
    "        if len(ids) != 0:\n",
    "            for log_id in ids:\n",
    "#                 if log_id in target_ids.to_list():\n",
    "                    if log_id in data:\n",
    "                        data[log_id] = data[log_id] + 1\n",
    "                    else:\n",
    "                        data[log_id] = 1\n",
    "            "
   ]
  },
  {
   "cell_type": "code",
   "execution_count": null,
   "metadata": {},
   "outputs": [],
   "source": [
    "len(data)"
   ]
  },
  {
   "cell_type": "code",
   "execution_count": null,
   "metadata": {},
   "outputs": [],
   "source": [
    "with open(output_dir, \"w\") as output_file:\n",
    "    output_file.write(\"LoggingID\\tInstructions\\n\")\n",
    "    for log_id in data:\n",
    "        output_file.write(str(log_id) + \"\\t\" + str(data[log_id]) + \"\\n\")"
   ]
  },
  {
   "cell_type": "code",
   "execution_count": null,
   "metadata": {},
   "outputs": [],
   "source": []
  }
 ],
 "metadata": {
  "kernelspec": {
   "display_name": "Python 3",
   "language": "python",
   "name": "python3"
  },
  "language_info": {
   "codemirror_mode": {
    "name": "ipython",
    "version": 3
   },
   "file_extension": ".py",
   "mimetype": "text/x-python",
   "name": "python",
   "nbconvert_exporter": "python",
   "pygments_lexer": "ipython3",
   "version": "3.7.3"
  }
 },
 "nbformat": 4,
 "nbformat_minor": 4
}
