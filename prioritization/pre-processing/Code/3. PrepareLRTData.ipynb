{
 "cells": [
  {
   "cell_type": "code",
   "execution_count": null,
   "metadata": {},
   "outputs": [],
   "source": [
    "import os\n",
    "import numpy as np\n",
    "import pandas as pd\n",
    "import matplotlib.pyplot as plt"
   ]
  },
  {
   "cell_type": "code",
   "execution_count": null,
   "metadata": {},
   "outputs": [],
   "source": [
    "project = \"Cassandra\"\n",
    "output_dir = r\"E:\\IDEAWorkspace\\plover\\prioritization\\lrt\\\\\" + project + r\"Data\\folds5\"\n",
    "profile_data_file = project+\"NewProfileStatSummary.xlsx\"\n",
    "metrics_data_file = project+\"_Metrics_Data.txt\"\n",
    "instructions_data_file = project+\"_Count_Of_Instructions.txt\"\n",
    "methodcalls_data_file = project+\"_Count_Of_Method_Calls.txt\"\n",
    "methodfreq_data_file = project+\"_Method_Frequency.txt\""
   ]
  },
  {
   "cell_type": "code",
   "execution_count": null,
   "metadata": {},
   "outputs": [],
   "source": [
    "profile_data = pd.read_excel(profile_data_file, sheet_name=\"summary\", index_col=0)\n",
    "metrics_data = pd.read_csv(metrics_data_file, sep=\"\\t\", index_col=0)\n",
    "instructions_data = pd.read_csv(instructions_data_file, sep=\"\\t\", index_col=0)\n",
    "methodcalls_data = pd.read_csv(methodcalls_data_file, sep=\"\\t\", index_col=0)\n",
    "methodfreq_data = pd.read_csv(methodfreq_data_file, sep=\"\\t\", index_col=0)"
   ]
  },
  {
   "cell_type": "code",
   "execution_count": null,
   "metadata": {},
   "outputs": [],
   "source": [
    "# methodcalls_data"
   ]
  },
  {
   "cell_type": "code",
   "execution_count": null,
   "metadata": {},
   "outputs": [],
   "source": [
    "# join data by LoggingID in profile_data\n",
    "joined_data = pd.concat([profile_data, metrics_data, instructions_data, methodcalls_data, methodfreq_data], axis=1, join=\"inner\")"
   ]
  },
  {
   "cell_type": "code",
   "execution_count": null,
   "metadata": {},
   "outputs": [],
   "source": [
    "joined_data.columns"
   ]
  },
  {
   "cell_type": "code",
   "execution_count": null,
   "metadata": {},
   "outputs": [],
   "source": [
    "# sort by Time(ns)Sum (mean of multiple runs of Time(ns)Sum)\n",
    "sorted_data = joined_data.sort_values(by=['Time(ns)Sum'])"
   ]
  },
  {
   "cell_type": "code",
   "execution_count": null,
   "metadata": {},
   "outputs": [],
   "source": [
    "# Set ReverseRank, will be used as the relevance score in LearnToRank\n",
    "sorted_data[\"ReverseRank\"] = np.arange(1, len(sorted_data)+1)"
   ]
  },
  {
   "cell_type": "code",
   "execution_count": null,
   "metadata": {},
   "outputs": [],
   "source": [
    "# Shuffle data\n",
    "shuffled_data = sorted_data.sample(frac=1)"
   ]
  },
  {
   "cell_type": "code",
   "execution_count": null,
   "metadata": {},
   "outputs": [],
   "source": [
    "shuffled_data"
   ]
  },
  {
   "cell_type": "code",
   "execution_count": null,
   "metadata": {},
   "outputs": [],
   "source": [
    "shuffled_data.to_csv(project+\"FullData.csv\")"
   ]
  },
  {
   "cell_type": "code",
   "execution_count": null,
   "metadata": {},
   "outputs": [],
   "source": [
    "splited_data = np.array_split(shuffled_data, 5)"
   ]
  },
  {
   "cell_type": "code",
   "execution_count": null,
   "metadata": {},
   "outputs": [],
   "source": [
    "for i, split in enumerate(splited_data):\n",
    "    with open(os.path.join(output_dir, \"fold\"+str(i)), \"w\") as fold_file:\n",
    "        for index, row in split.iterrows():\n",
    "            fold_file.write(\"{rel} pid:1 1:{PotentialMethodCalls} 2:{PotentialInstructions} 3:{Instructions} 4:{MethodCalls} 5:{Count} 6:{MethodFreq} # {LoggingID}\\n\".format(\n",
    "                rel=row[\"ReverseRank\"], PotentialMethodCalls=row[\"PotentialMethodCalls\"], PotentialInstructions=row[\"PotentialInstructions\"], \n",
    "                Instructions=row[\"Instructions\"], MethodCalls=row[\"MethodCalls\"], Count=row[\"Time(ns)Count\"], MethodFreq=row[\"MethodFrequency\"], LoggingID=index\n",
    "            ))"
   ]
  },
  {
   "cell_type": "code",
   "execution_count": null,
   "metadata": {},
   "outputs": [],
   "source": []
  }
 ],
 "metadata": {
  "kernelspec": {
   "display_name": "Python 3",
   "language": "python",
   "name": "python3"
  },
  "language_info": {
   "codemirror_mode": {
    "name": "ipython",
    "version": 3
   },
   "file_extension": ".py",
   "mimetype": "text/x-python",
   "name": "python",
   "nbconvert_exporter": "python",
   "pygments_lexer": "ipython3",
   "version": "3.7.3"
  }
 },
 "nbformat": 4,
 "nbformat_minor": 4
}
