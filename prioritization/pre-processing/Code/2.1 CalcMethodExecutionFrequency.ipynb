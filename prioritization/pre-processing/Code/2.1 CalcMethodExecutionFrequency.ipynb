{
 "cells": [
  {
   "cell_type": "code",
   "execution_count": null,
   "metadata": {},
   "outputs": [],
   "source": [
    "import numpy as np\n",
    "import pandas as pd\n",
    "import re\n",
    "import json"
   ]
  },
  {
   "cell_type": "code",
   "execution_count": null,
   "metadata": {},
   "outputs": [],
   "source": [
    "project = \"Cassandra\"\n",
    "guards_result_path = r\"E:\\IDEAWorkspace\\plover\\docs\\result\\\\\" + project + \"_Data_Control_SideEffect_Raw_Result.txt\""
   ]
  },
  {
   "cell_type": "code",
   "execution_count": null,
   "metadata": {},
   "outputs": [],
   "source": [
    "string = \"2021-01-19 13:57:26 [INFO] - Find overhead at method <org.apache.hadoop.hdfs.server.datanode.ShortCircuitRegistry: org.apache.hadoop.hdfs.server.datanode.ShortCircuitRegistry$NewShmInfo createNewMemorySegment(java.lang.String,org.apache.hadoop.net.unix.DomainSocket)>:305 has 16 units and 4 lines\""
   ]
  },
  {
   "cell_type": "code",
   "execution_count": null,
   "metadata": {},
   "outputs": [],
   "source": [
    "header_template = re.compile(r'.*Find overhead at method <(\\S+).*>:(\\w+).*')"
   ]
  },
  {
   "cell_type": "code",
   "execution_count": null,
   "metadata": {},
   "outputs": [],
   "source": [
    "header_template.findall(string)"
   ]
  },
  {
   "cell_type": "code",
   "execution_count": null,
   "metadata": {},
   "outputs": [],
   "source": [
    "logging_records = []\n",
    "with open(guards_result_path, \"r\") as guards_result_file:\n",
    "    lines = guards_result_file.readlines()\n",
    "    ids = set()\n",
    "    for line in lines:\n",
    "        if \"Find overhead at method\" in line:\n",
    "            if len(ids) != 0:\n",
    "                for pre_id in ids:\n",
    "                    logging_records.append([file_name, line_num, pre_id])\n",
    "                    print(file_name, line_num, pre_id)\n",
    "            ids = set()\n",
    "            matched = header_template.findall(line)\n",
    "            class_name = matched[0][0][:-1]\n",
    "            if \"$\" in class_name:\n",
    "                file_name = class_name[class_name.rfind(\".\")+1:class_name.find(\"$\")]+\".java\"\n",
    "            else:\n",
    "                file_name = class_name[class_name.rfind(\".\")+1:]+\".java\"\n",
    "            line_num = matched[0][1]\n",
    "        else:\n",
    "            new_ids = re.findall(\"\\w{8}-\\w{4}\", line)\n",
    "            ids.update(new_ids)"
   ]
  },
  {
   "cell_type": "code",
   "execution_count": null,
   "metadata": {},
   "outputs": [],
   "source": [
    "method_hit_path = \"E:\\IDEAWorkspace\\\\plover\\docs\\coverage\\\\\" + project.lower() + \"\\MethodsHit.txt\""
   ]
  },
  {
   "cell_type": "code",
   "execution_count": null,
   "metadata": {},
   "outputs": [],
   "source": [
    "with open(method_hit_path, \"r\") as method_hit_file:\n",
    "    lines = method_hit_file.readlines()\n",
    "    raw_hits = []\n",
    "    for line in lines:\n",
    "        if \".java\" in line:\n",
    "            raw_hits.append(line.strip().split(\"\\t\"))"
   ]
  },
  {
   "cell_type": "code",
   "execution_count": null,
   "metadata": {},
   "outputs": [],
   "source": [
    "hits = pd.DataFrame(raw_hits)"
   ]
  },
  {
   "cell_type": "code",
   "execution_count": null,
   "metadata": {},
   "outputs": [],
   "source": [
    "hits.columns = [\"FileName\", \"ClassName\", \"MethodName\", \"HitCount\", \"LineNum\"]"
   ]
  },
  {
   "cell_type": "code",
   "execution_count": null,
   "metadata": {},
   "outputs": [],
   "source": [
    "hits = hits.set_index([\"FileName\", \"LineNum\"])"
   ]
  },
  {
   "cell_type": "code",
   "execution_count": null,
   "metadata": {},
   "outputs": [],
   "source": [
    "hits"
   ]
  },
  {
   "cell_type": "code",
   "execution_count": null,
   "metadata": {},
   "outputs": [],
   "source": [
    "hits.groupby([\"FileName\", \"LineNum\"]).agg(['count']).to_csv(\"test.csv\")"
   ]
  },
  {
   "cell_type": "code",
   "execution_count": null,
   "metadata": {},
   "outputs": [],
   "source": [
    "#hits.loc[\"SaslQuorumServerCallbackHandler.java\", \"52\"][\"HitCount\"]"
   ]
  },
  {
   "cell_type": "code",
   "execution_count": null,
   "metadata": {},
   "outputs": [],
   "source": [
    "for record in logging_records:\n",
    "    exception = True\n",
    "    \n",
    "    line_num = int(record[1])\n",
    "    print(\"Try to find \" + record[0] + \" \" + record[1])\n",
    "    while(exception):\n",
    "        if (line_num < 0):\n",
    "            # try to increase\n",
    "            inner_exception = True\n",
    "            line_num = int(record[1])+1\n",
    "            while(inner_exception):\n",
    "                if (line_num > 10000):\n",
    "                    print(\"Not found\")\n",
    "                    inner_exception = False\n",
    "                try:\n",
    "                    hit_count = hits.loc[record[0], str(line_num)][\"HitCount\"]\n",
    "                    print(\"Found at \" + str(line_num))\n",
    "                    print(\"MAP\", record[2], hit_count[0], sep=\"\\t\")\n",
    "                    inner_exception = False\n",
    "                except:\n",
    "                    line_num += 1\n",
    "            \n",
    "            exception = False\n",
    "        try:\n",
    "            hit_count = hits.loc[record[0], str(line_num)][\"HitCount\"]\n",
    "            print(\"Found at \" + str(line_num))\n",
    "            print(\"MAP\", record[2], hit_count[0], sep=\"\\t\")\n",
    "            exception = False\n",
    "        except:\n",
    "            line_num -= 1"
   ]
  },
  {
   "cell_type": "code",
   "execution_count": null,
   "metadata": {},
   "outputs": [],
   "source": []
  }
 ],
 "metadata": {
  "kernelspec": {
   "display_name": "Python 3",
   "language": "python",
   "name": "python3"
  },
  "language_info": {
   "codemirror_mode": {
    "name": "ipython",
    "version": 3
   },
   "file_extension": ".py",
   "mimetype": "text/x-python",
   "name": "python",
   "nbconvert_exporter": "python",
   "pygments_lexer": "ipython3",
   "version": "3.7.3"
  }
 },
 "nbformat": 4,
 "nbformat_minor": 4
}
