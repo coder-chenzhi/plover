{
 "cells": [
  {
   "cell_type": "code",
   "execution_count": 1,
   "metadata": {},
   "outputs": [],
   "source": [
    "import os\n",
    "import numpy as np\n",
    "import pandas as pd\n",
    "import matplotlib.pyplot as plt"
   ]
  },
  {
   "cell_type": "code",
   "execution_count": 100,
   "metadata": {},
   "outputs": [],
   "source": [
    "project = \"cassandra\"\n",
    "index = 8"
   ]
  },
  {
   "cell_type": "code",
   "execution_count": 101,
   "metadata": {},
   "outputs": [],
   "source": [
    "log_path = r\"H:\\Data\\PLOVER_TEST_LOG\\\\\" + project + \"_test_log_summary\" + str(index) + \".log\""
   ]
  },
  {
   "cell_type": "code",
   "execution_count": 102,
   "metadata": {},
   "outputs": [],
   "source": [
    "data = pd.read_csv(log_path, sep=\"\\t\", header=None, names=[\"LoggingID\", \"Time(ns)\", \"Space(bytes)\"])"
   ]
  },
  {
   "cell_type": "code",
   "execution_count": 103,
   "metadata": {},
   "outputs": [],
   "source": [
    "log_ids = np.unique(data[\"LoggingID\"])"
   ]
  },
  {
   "cell_type": "code",
   "execution_count": 104,
   "metadata": {},
   "outputs": [
    {
     "data": {
      "text/plain": [
       "146"
      ]
     },
     "execution_count": 104,
     "metadata": {},
     "output_type": "execute_result"
    }
   ],
   "source": [
    "len(log_ids)"
   ]
  },
  {
   "cell_type": "code",
   "execution_count": 105,
   "metadata": {},
   "outputs": [
    {
     "data": {
      "text/plain": [
       "array(['01163cff-7530', '0580afc3-d293', '073aa94d-b538', '075403d5-4c5c',\n",
       "       '0854f7ff-04a1', '0aa57abc-6eb6', '12c5bd62-f514', '1462dcf1-60b0',\n",
       "       '156ab65b-3720', '1940d65e-b62a', '1cb910a9-a8be', '1d630b1a-7f5f',\n",
       "       '1dae5c8c-4b5e', '24b48571-105f', '27e9ca64-d563', '286e0fbd-3471',\n",
       "       '28e9e3b1-d44e', '28fbbf7f-39a3', '28fd88bd-b0d5', '2cf21f01-4282',\n",
       "       '2d883721-c0d9', '34af0b4d-b697', '3547f107-0732', '35cddc7c-42ee',\n",
       "       '3759213a-1566', '3943d22f-5e77', '3fb58b8d-1373', '405f2289-4349',\n",
       "       '417422c7-b292', '43b6fea3-f18e', '457d4028-944a', '4736d41b-a904',\n",
       "       '497b0674-dac0', '4bf02325-6041', '4f4bef59-3508', '508904a9-9732',\n",
       "       '523ce7b9-7be2', '5257d2b4-0e9a', '52a8eaaa-b5fa', '56abfe78-6725',\n",
       "       '56d10794-65f0', '57fcc939-8d8a', '58cad3d6-c01c', '61b85ba7-b3a2',\n",
       "       '655bf64d-978e', '678a4498-fa8a', '681b5d74-fbd6', '68863ab8-7b8a',\n",
       "       '6a0ccb45-5cfd', '6a1ebf87-5d6a', '6d384cf1-3fd0', '6d427f93-5ea0',\n",
       "       '7225abb1-7a44', '72acd5a2-ff2e', '73ed645f-a635', '73fc506f-46fd',\n",
       "       '74864cc0-8221', '762a2482-527e', '7735342e-bdae', '7c02f7f9-ff03',\n",
       "       '7d9d4b37-28b4', '7dd88a75-5107', '82dcf9c6-849d', '85c83a63-a701',\n",
       "       '85d24ffd-0bd6', '8b8975eb-975f', '8c8143c6-febe', '8d7d7d0c-d15e',\n",
       "       '8dcd2b49-1ed1', '8dd33f77-4a8f', '8f10368a-e760', '8fc09dcc-406c',\n",
       "       '8fd5667c-3576', '8fddfcb3-7130', '917c3f91-19a2', '92539a8b-9ea8',\n",
       "       '9391e002-7ba1', '93fbdc0e-e0e0', '942764fa-69db', '95d28104-a2ec',\n",
       "       '960e7f42-6f96', '979bd3c1-f640', '99b8e53c-a16c', '9a2d7937-9899',\n",
       "       '9a6ac074-c997', '9a969c60-9251', '9ab3da73-7aec', '9acbd6e9-1e44',\n",
       "       'a1146e55-52a5', 'a3436720-8474', 'a63d8cff-167b', 'a6dde749-2438',\n",
       "       'a8a07652-2a6d', 'a91a6868-5692', 'aa3dc7a2-16b6', 'ab1704dc-2409',\n",
       "       'ac1467d5-6aac', 'ae1cb794-384e', 'afaa797a-c3d3', 'b23dc006-ee01',\n",
       "       'b4a770b7-8038', 'b5a3eafb-f05d', 'b7468681-403a', 'b75cc0e9-e4a1',\n",
       "       'b96a2616-8ce8', 'bff4d96d-7ef2', 'c3b05b01-44a5', 'c436936a-2136',\n",
       "       'c52dec46-f2e3', 'c724bf89-03b9', 'c74884c3-9a11', 'c9642b1f-761c',\n",
       "       'cc0d6288-7129', 'ced1ac55-a59e', 'd0d9661d-266d', 'd47f652e-4444',\n",
       "       'd58fda04-7d51', 'd631f1bf-2c4e', 'd7ded0cf-f2d9', 'd8c51df9-3658',\n",
       "       'd8dae9d4-a2e9', 'da1061c2-09e5', 'db06456c-0ed9', 'db700e7b-340c',\n",
       "       'dc80e54f-1843', 'dce38fd3-f82d', 'dd9f2017-de62', 'e0737605-7bc4',\n",
       "       'e5591f26-5272', 'e55b505b-38b8', 'e93a0a31-05dd', 'ec888ddb-07e3',\n",
       "       'edaca8c4-e32d', 'f03fcb85-ab44', 'f1b1e42f-92ca', 'f28de54a-7a80',\n",
       "       'f436c549-4626', 'f4d13f8c-fd03', 'f5a8b058-76f2', 'f638fbd6-04ac',\n",
       "       'f75ea352-f3fa', 'fa1d68e5-3a72', 'fbd4b5d3-4b14', 'fc1c3866-973f',\n",
       "       'ff5a5e79-6a4d', 'ffff809d-b57d'], dtype=object)"
      ]
     },
     "execution_count": 105,
     "metadata": {},
     "output_type": "execute_result"
    }
   ],
   "source": [
    "log_ids"
   ]
  },
  {
   "cell_type": "code",
   "execution_count": 106,
   "metadata": {},
   "outputs": [],
   "source": [
    "with open(project+\"SelectedID.txt\", \"r\") as full_log_id_file:\n",
    "    full_log_ids = [log_id.strip() for log_id in full_log_id_file.readlines()]"
   ]
  },
  {
   "cell_type": "code",
   "execution_count": 107,
   "metadata": {},
   "outputs": [
    {
     "data": {
      "text/plain": [
       "205"
      ]
     },
     "execution_count": 107,
     "metadata": {},
     "output_type": "execute_result"
    }
   ],
   "source": [
    "len(full_log_ids)"
   ]
  },
  {
   "cell_type": "code",
   "execution_count": 108,
   "metadata": {},
   "outputs": [
    {
     "data": {
      "text/plain": [
       "array(['04653426-a7de', '05959006-cc6d', '100867e1-2ed6', '1029fafe-1a91',\n",
       "       '1033af12-d5b1', '18c4c530-d86e', '19446b46-188f', '2e4ec12e-a80f',\n",
       "       '37b530c5-4e3a', '3c5b8827-f4bd', '3ec74860-caa5', '440b5835-69ef',\n",
       "       '447c4237-c907', '4bb5b28c-313b', '4c5f6c80-2c3f', '57e88c6b-3359',\n",
       "       '57f4bb55-6b49', '691ef5f9-88fe', '69af3b19-2d2b', '6d6d6b67-d6ac',\n",
       "       '6f6b6179-d7fa', '705db999-e10a', '70a51b37-7a07', '725b4c4f-b00e',\n",
       "       '74efdd5c-e7fc', '794279af-dd5e', '80a069af-e1de', '80e6ada6-3851',\n",
       "       '823a0e4b-eb72', '87461cfe-ed0e', '88ef9326-2a8a', '8dbab86c-0793',\n",
       "       '92e9f31e-00e8', '98b48042-44e8', '99fb1ddf-69d2', 'a20f098c-6422',\n",
       "       'aec18224-0718', 'b2ef8a94-dcc1', 'b5c271f0-ff78', 'b61f84fc-456a',\n",
       "       'b89343b3-39e2', 'b8b4a4b6-1cf8', 'ba3dff1a-51b0', 'bdcb9c85-f50d',\n",
       "       'be16a863-c60d', 'be9b6076-b47b', 'c032c4b9-09da', 'c57d0e7b-3689',\n",
       "       'ca4cde3f-0aee', 'ce948301-a2d5', 'cf73b671-07c2', 'd69e1612-bb39',\n",
       "       'd6b8da20-5d8e', 'ddf382d5-7165', 'e6dffb39-a19b', 'f06f884e-2132',\n",
       "       'f3948c38-543a', 'f4679d4d-4a2b', 'ffbb8f41-d82a'], dtype='<U13')"
      ]
     },
     "execution_count": 108,
     "metadata": {},
     "output_type": "execute_result"
    }
   ],
   "source": [
    "np.setdiff1d(full_log_ids, log_ids)"
   ]
  },
  {
   "cell_type": "code",
   "execution_count": 109,
   "metadata": {},
   "outputs": [
    {
     "data": {
      "text/plain": [
       "array([], dtype=object)"
      ]
     },
     "execution_count": 109,
     "metadata": {},
     "output_type": "execute_result"
    }
   ],
   "source": [
    "np.setdiff1d(log_ids, full_log_ids)"
   ]
  },
  {
   "cell_type": "code",
   "execution_count": 110,
   "metadata": {},
   "outputs": [],
   "source": [
    "data = data.set_index([\"LoggingID\"])"
   ]
  },
  {
   "cell_type": "code",
   "execution_count": 111,
   "metadata": {},
   "outputs": [],
   "source": [
    "data = data.groupby([\"LoggingID\"])"
   ]
  },
  {
   "cell_type": "code",
   "execution_count": 112,
   "metadata": {},
   "outputs": [],
   "source": [
    "basic_stat = data.agg(\n",
    "    {\n",
    "        'Time(ns)': ['median', 'mean', 'max', 'sum', 'count'],\n",
    "        'Space(bytes)': ['median', 'mean', 'max', 'sum', 'count']\n",
    "    }\n",
    ")"
   ]
  },
  {
   "cell_type": "code",
   "execution_count": 113,
   "metadata": {},
   "outputs": [],
   "source": [
    "basic_stat.to_csv(project+\"NewProfileStat\"+str(index)+\".csv\")"
   ]
  },
  {
   "cell_type": "code",
   "execution_count": null,
   "metadata": {},
   "outputs": [],
   "source": []
  }
 ],
 "metadata": {
  "kernelspec": {
   "display_name": "Python 3",
   "language": "python",
   "name": "python3"
  },
  "language_info": {
   "codemirror_mode": {
    "name": "ipython",
    "version": 3
   },
   "file_extension": ".py",
   "mimetype": "text/x-python",
   "name": "python",
   "nbconvert_exporter": "python",
   "pygments_lexer": "ipython3",
   "version": "3.7.3"
  }
 },
 "nbformat": 4,
 "nbformat_minor": 4
}
